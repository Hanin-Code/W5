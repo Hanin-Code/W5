{
  "cells": [
    {
      "cell_type": "markdown",
      "id": "cda1ba95",
      "metadata": {
        "id": "cda1ba95"
      },
      "source": [
        "# Exam on Artificial Neural Networks (ANN)\n",
        "\n",
        "Welcome the Artificial Neural Networks (ANN) practical exam. In this exam, you will work on a classification task to predict the outcome of incidents involving buses. You are provided with a dataset that records breakdowns and delays in bus operations. Your task is to build, train, and evaluate an ANN model.\n",
        "\n",
        "---\n",
        "\n",
        "## Dataset Overview\n",
        "\n",
        "### **Dataset:**\n",
        "* Just run the command under the `Load Data` section to get the data downloaded and unzipped or you can access it [here](https://drive.google.com/file/d/1Flvj3qDkV2rPw7GGi5zOR-WGJgEBtRk-/view?usp=sharing)\n",
        "\n",
        "### **Dataset Name:** Bus Breakdown and Delays\n",
        "\n",
        "### **Description:**  \n",
        "The dataset contains records of incidents involving buses that were either running late or experienced a breakdown. Your task is to predict whether the bus was delayed or had a breakdown based on the features provided.\n",
        "\n",
        "### **Features:**\n",
        "The dataset contains the following columns:\n",
        "\n",
        "- `School_Year`\n",
        "- `Busbreakdown_ID`\n",
        "- `Run_Type`\n",
        "- `Bus_No`\n",
        "- `Route_Number`\n",
        "- `Reason`\n",
        "- `Schools_Serviced`\n",
        "- `Occurred_On`\n",
        "- `Created_On`\n",
        "- `Boro`\n",
        "- `Bus_Company_Name`\n",
        "- `How_Long_Delayed`\n",
        "- `Number_Of_Students_On_The_Bus`\n",
        "- `Has_Contractor_Notified_Schools`\n",
        "- `Has_Contractor_Notified_Parents`\n",
        "- `Have_You_Alerted_OPT`\n",
        "- `Informed_On`\n",
        "- `Incident_Number`\n",
        "- `Last_Updated_On`\n",
        "- `Breakdown_or_Running_Late` (Target Column)\n",
        "- `School_Age_or_PreK`"
      ]
    },
    {
      "cell_type": "markdown",
      "id": "4c2b014b",
      "metadata": {
        "id": "4c2b014b"
      },
      "source": [
        "## Load Data"
      ]
    },
    {
      "cell_type": "code",
      "execution_count": null,
      "id": "98ad02f5",
      "metadata": {
        "id": "98ad02f5",
        "colab": {
          "base_uri": "https://localhost:8080/"
        },
        "collapsed": true,
        "outputId": "508cb4ec-c43c-4898-a8cc-a4de3f207a8c"
      },
      "outputs": [
        {
          "output_type": "stream",
          "name": "stdout",
          "text": [
            "Requirement already satisfied: gdown in /usr/local/lib/python3.10/dist-packages (5.1.0)\n",
            "Requirement already satisfied: beautifulsoup4 in /usr/local/lib/python3.10/dist-packages (from gdown) (4.12.3)\n",
            "Requirement already satisfied: filelock in /usr/local/lib/python3.10/dist-packages (from gdown) (3.15.4)\n",
            "Requirement already satisfied: requests[socks] in /usr/local/lib/python3.10/dist-packages (from gdown) (2.32.3)\n",
            "Requirement already satisfied: tqdm in /usr/local/lib/python3.10/dist-packages (from gdown) (4.66.5)\n",
            "Requirement already satisfied: soupsieve>1.2 in /usr/local/lib/python3.10/dist-packages (from beautifulsoup4->gdown) (2.5)\n",
            "Requirement already satisfied: charset-normalizer<4,>=2 in /usr/local/lib/python3.10/dist-packages (from requests[socks]->gdown) (3.3.2)\n",
            "Requirement already satisfied: idna<4,>=2.5 in /usr/local/lib/python3.10/dist-packages (from requests[socks]->gdown) (3.7)\n",
            "Requirement already satisfied: urllib3<3,>=1.21.1 in /usr/local/lib/python3.10/dist-packages (from requests[socks]->gdown) (2.0.7)\n",
            "Requirement already satisfied: certifi>=2017.4.17 in /usr/local/lib/python3.10/dist-packages (from requests[socks]->gdown) (2024.7.4)\n",
            "Requirement already satisfied: PySocks!=1.5.7,>=1.5.6 in /usr/local/lib/python3.10/dist-packages (from requests[socks]->gdown) (1.7.1)\n",
            "/usr/local/lib/python3.10/dist-packages/gdown/__main__.py:132: FutureWarning: Option `--id` was deprecated in version 4.3.1 and will be removed in 5.0. You don't need to pass it anymore to use a file ID.\n",
            "  warnings.warn(\n",
            "Downloading...\n",
            "From: https://drive.google.com/uc?id=1Flvj3qDkV2rPw7GGi5zOR-WGJgEBtRk-\n",
            "To: /content/Bus_Breakdown_and_Delays.csv\n",
            "100% 34.4M/34.4M [00:00<00:00, 210MB/s]\n"
          ]
        }
      ],
      "source": [
        "#https://drive.google.com/file/d/1Flvj3qDkV2rPw7GGi5zOR-WGJgEBtRk-/view?usp=sharing\n",
        "!pip install gdown\n",
        "!gdown --id 1Flvj3qDkV2rPw7GGi5zOR-WGJgEBtRk-"
      ]
    },
    {
      "cell_type": "markdown",
      "id": "3e39620c",
      "metadata": {
        "id": "3e39620c"
      },
      "source": [
        "## Importing Libraries"
      ]
    },
    {
      "cell_type": "code",
      "execution_count": null,
      "id": "62381953",
      "metadata": {
        "id": "62381953"
      },
      "outputs": [],
      "source": [
        "import pandas as pd\n",
        "import numpy as np\n",
        "from sklearn.model_selection import train_test_split\n",
        "from tensorflow.keras.models import Sequential\n",
        "from tensorflow.keras.layers import Dense\n",
        "from tensorflow.keras.optimizers import Adam\n",
        "from sklearn.preprocessing import OneHotEncoder, LabelEncoder\n",
        "import matplotlib.pyplot as plt\n",
        "import seaborn as sns\n",
        "from sklearn.metrics import accuracy_score, precision_score, recall_score, f1_score, confusion_matrix\n",
        "from sklearn.preprocessing import StandardScaler, MinMaxScaler\n",
        "from imblearn.over_sampling import RandomOverSampler\n",
        "from imblearn.under_sampling import RandomUnderSampler\n"
      ]
    },
    {
      "cell_type": "markdown",
      "id": "71ccd4e2",
      "metadata": {
        "id": "71ccd4e2"
      },
      "source": [
        "## Exploratory Data Analysis (EDA)\n",
        "This could include:\n",
        "* **Inspect the dataset**\n",
        "\n",
        "* **Dataset structure**\n",
        "\n",
        "* **Summary statistics**\n",
        "\n",
        "* **Check for missing values**\n",
        "\n",
        "* **Distribution of features**\n",
        "\n",
        "* **Categorical feature analysis**\n",
        "\n",
        "* **Correlation matrix**\n",
        "\n",
        "* **Outlier detection**\n",
        "\n",
        "And add more as needed!"
      ]
    },
    {
      "cell_type": "code",
      "source": [
        "df = pd.read_csv('/content/Bus_Breakdown_and_Delays.csv')\n",
        "df"
      ],
      "metadata": {
        "colab": {
          "base_uri": "https://localhost:8080/",
          "height": 826
        },
        "collapsed": true,
        "id": "WmnvytKw46nn",
        "outputId": "22f1f4df-dbfb-46cc-f363-b946e2c61f6f"
      },
      "id": "WmnvytKw46nn",
      "execution_count": null,
      "outputs": [
        {
          "output_type": "stream",
          "name": "stderr",
          "text": [
            "<ipython-input-4-949a4d5a2810>:1: DtypeWarning: Columns (17) have mixed types. Specify dtype option on import or set low_memory=False.\n",
            "  df = pd.read_csv('/content/Bus_Breakdown_and_Delays.csv')\n"
          ]
        },
        {
          "output_type": "execute_result",
          "data": {
            "text/plain": [
              "      School_Year  Busbreakdown_ID               Run_Type  Bus_No  \\\n",
              "0       2015-2016          1224901               Pre-K/EI     811   \n",
              "1       2015-2016          1225098               Pre-K/EI    9302   \n",
              "2       2015-2016          1215800               Pre-K/EI     358   \n",
              "3       2015-2016          1215511               Pre-K/EI     331   \n",
              "4       2015-2016          1215828               Pre-K/EI     332   \n",
              "...           ...              ...                    ...     ...   \n",
              "36143   2015-2016          1256190      Special Ed AM Run  TN0355   \n",
              "36144   2015-2016          1256191  General Ed Field Trip   10601   \n",
              "36145   2015-2016          1256193  Special Ed Field Trip    2527   \n",
              "36146   2015-2016          1256194               Pre-K/EI   12495   \n",
              "36147   2015-2016          1256195  Special Ed Field Trip    4507   \n",
              "\n",
              "      Route_Number              Reason Schools_Serviced  \\\n",
              "0                1               Other             C353   \n",
              "1                1       Heavy Traffic             C814   \n",
              "2                2       Heavy Traffic             C195   \n",
              "3                2               Other             C178   \n",
              "4                2               Other             S176   \n",
              "...            ...                 ...              ...   \n",
              "36143         L526               Other            21893   \n",
              "36144        K3342  Mechanical Problem            21740   \n",
              "36145         L507  Mechanical Problem            21461   \n",
              "36146       B0251W       Heavy Traffic             E083   \n",
              "36147         K481               Other            21468   \n",
              "\n",
              "                  Occurred_On              Created_On      Boro  ...  \\\n",
              "0      10/26/2015 08:30:00 AM  10/26/2015 08:40:00 AM     Bronx  ...   \n",
              "1      10/27/2015 07:10:00 AM  10/27/2015 07:11:00 AM     Bronx  ...   \n",
              "2      09/18/2015 07:36:00 AM  09/18/2015 07:38:00 AM     Bronx  ...   \n",
              "3      09/17/2015 08:08:00 AM  09/17/2015 08:12:00 AM     Bronx  ...   \n",
              "4      09/18/2015 07:39:00 AM  09/18/2015 07:45:00 AM     Bronx  ...   \n",
              "...                       ...                     ...       ...  ...   \n",
              "36143  03/15/2016 08:40:00 AM  03/15/2016 08:54:00 AM  Brooklyn  ...   \n",
              "36144  03/15/2016 08:48:00 AM  03/15/2016 08:59:00 AM  Brooklyn  ...   \n",
              "36145  03/15/2016 09:17:00 AM  03/15/2016 09:19:00 AM       NaN  ...   \n",
              "36146  03/15/2016 10:15:00 AM  03/15/2016 10:30:00 AM  Brooklyn  ...   \n",
              "36147  03/15/2016 11:51:00 AM  03/15/2016 11:55:00 AM  Brooklyn  ...   \n",
              "\n",
              "      How_Long_Delayed Number_Of_Students_On_The_Bus  \\\n",
              "0            10MINUTES                             5   \n",
              "1           25 MINUTES                             3   \n",
              "2           15 MINUTES                            12   \n",
              "3           10 minutes                            11   \n",
              "4            10MINUTES                            12   \n",
              "...                ...                           ...   \n",
              "36143          25 mins                             7   \n",
              "36144            45min                             0   \n",
              "36145              NaN                             0   \n",
              "36146           30 min                             0   \n",
              "36147           15MINS                             0   \n",
              "\n",
              "       Has_Contractor_Notified_Schools Has_Contractor_Notified_Parents  \\\n",
              "0                                  Yes                             Yes   \n",
              "1                                  Yes                             Yes   \n",
              "2                                  Yes                             Yes   \n",
              "3                                  Yes                             Yes   \n",
              "4                                  Yes                             Yes   \n",
              "...                                ...                             ...   \n",
              "36143                              Yes                              No   \n",
              "36144                              Yes                             Yes   \n",
              "36145                              Yes                             Yes   \n",
              "36146                              Yes                             Yes   \n",
              "36147                              Yes                             Yes   \n",
              "\n",
              "      Have_You_Alerted_OPT             Informed_On Incident_Number  \\\n",
              "0                       No  10/26/2015 08:40:00 AM             NaN   \n",
              "1                       No  10/27/2015 07:11:00 AM             NaN   \n",
              "2                      Yes  09/18/2015 07:38:00 AM             NaN   \n",
              "3                      Yes  09/17/2015 08:12:00 AM             NaN   \n",
              "4                       No  09/18/2015 07:45:00 AM             NaN   \n",
              "...                    ...                     ...             ...   \n",
              "36143                   No  03/15/2016 08:54:00 AM             NaN   \n",
              "36144                   No  03/15/2016 08:59:00 AM             NaN   \n",
              "36145                  Yes  03/15/2016 09:19:00 AM             NaN   \n",
              "36146                  Yes  03/15/2016 10:30:00 AM             NaN   \n",
              "36147                  Yes  03/15/2016 11:55:00 AM             NaN   \n",
              "\n",
              "              Last_Updated_On Breakdown_or_Running_Late School_Age_or_PreK  \n",
              "0      10/26/2015 08:40:39 AM              Running Late              Pre-K  \n",
              "1      10/27/2015 07:11:22 AM              Running Late              Pre-K  \n",
              "2      09/18/2015 07:38:44 AM              Running Late              Pre-K  \n",
              "3      09/17/2015 08:12:08 AM              Running Late              Pre-K  \n",
              "4      09/18/2015 07:56:40 AM              Running Late              Pre-K  \n",
              "...                       ...                       ...                ...  \n",
              "36143  03/15/2016 08:54:38 AM              Running Late         School-Age  \n",
              "36144  03/15/2016 08:59:35 AM              Running Late         School-Age  \n",
              "36145  03/15/2016 09:19:19 AM                 Breakdown         School-Age  \n",
              "36146  03/15/2016 10:30:31 AM              Running Late              Pre-K  \n",
              "36147  03/15/2016 01:52:35 PM                       NaN                NaN  \n",
              "\n",
              "[36148 rows x 21 columns]"
            ],
            "text/html": [
              "\n",
              "  <div id=\"df-36552e4b-fc00-43ea-bc9e-7bc31c9acfd9\" class=\"colab-df-container\">\n",
              "    <div>\n",
              "<style scoped>\n",
              "    .dataframe tbody tr th:only-of-type {\n",
              "        vertical-align: middle;\n",
              "    }\n",
              "\n",
              "    .dataframe tbody tr th {\n",
              "        vertical-align: top;\n",
              "    }\n",
              "\n",
              "    .dataframe thead th {\n",
              "        text-align: right;\n",
              "    }\n",
              "</style>\n",
              "<table border=\"1\" class=\"dataframe\">\n",
              "  <thead>\n",
              "    <tr style=\"text-align: right;\">\n",
              "      <th></th>\n",
              "      <th>School_Year</th>\n",
              "      <th>Busbreakdown_ID</th>\n",
              "      <th>Run_Type</th>\n",
              "      <th>Bus_No</th>\n",
              "      <th>Route_Number</th>\n",
              "      <th>Reason</th>\n",
              "      <th>Schools_Serviced</th>\n",
              "      <th>Occurred_On</th>\n",
              "      <th>Created_On</th>\n",
              "      <th>Boro</th>\n",
              "      <th>...</th>\n",
              "      <th>How_Long_Delayed</th>\n",
              "      <th>Number_Of_Students_On_The_Bus</th>\n",
              "      <th>Has_Contractor_Notified_Schools</th>\n",
              "      <th>Has_Contractor_Notified_Parents</th>\n",
              "      <th>Have_You_Alerted_OPT</th>\n",
              "      <th>Informed_On</th>\n",
              "      <th>Incident_Number</th>\n",
              "      <th>Last_Updated_On</th>\n",
              "      <th>Breakdown_or_Running_Late</th>\n",
              "      <th>School_Age_or_PreK</th>\n",
              "    </tr>\n",
              "  </thead>\n",
              "  <tbody>\n",
              "    <tr>\n",
              "      <th>0</th>\n",
              "      <td>2015-2016</td>\n",
              "      <td>1224901</td>\n",
              "      <td>Pre-K/EI</td>\n",
              "      <td>811</td>\n",
              "      <td>1</td>\n",
              "      <td>Other</td>\n",
              "      <td>C353</td>\n",
              "      <td>10/26/2015 08:30:00 AM</td>\n",
              "      <td>10/26/2015 08:40:00 AM</td>\n",
              "      <td>Bronx</td>\n",
              "      <td>...</td>\n",
              "      <td>10MINUTES</td>\n",
              "      <td>5</td>\n",
              "      <td>Yes</td>\n",
              "      <td>Yes</td>\n",
              "      <td>No</td>\n",
              "      <td>10/26/2015 08:40:00 AM</td>\n",
              "      <td>NaN</td>\n",
              "      <td>10/26/2015 08:40:39 AM</td>\n",
              "      <td>Running Late</td>\n",
              "      <td>Pre-K</td>\n",
              "    </tr>\n",
              "    <tr>\n",
              "      <th>1</th>\n",
              "      <td>2015-2016</td>\n",
              "      <td>1225098</td>\n",
              "      <td>Pre-K/EI</td>\n",
              "      <td>9302</td>\n",
              "      <td>1</td>\n",
              "      <td>Heavy Traffic</td>\n",
              "      <td>C814</td>\n",
              "      <td>10/27/2015 07:10:00 AM</td>\n",
              "      <td>10/27/2015 07:11:00 AM</td>\n",
              "      <td>Bronx</td>\n",
              "      <td>...</td>\n",
              "      <td>25 MINUTES</td>\n",
              "      <td>3</td>\n",
              "      <td>Yes</td>\n",
              "      <td>Yes</td>\n",
              "      <td>No</td>\n",
              "      <td>10/27/2015 07:11:00 AM</td>\n",
              "      <td>NaN</td>\n",
              "      <td>10/27/2015 07:11:22 AM</td>\n",
              "      <td>Running Late</td>\n",
              "      <td>Pre-K</td>\n",
              "    </tr>\n",
              "    <tr>\n",
              "      <th>2</th>\n",
              "      <td>2015-2016</td>\n",
              "      <td>1215800</td>\n",
              "      <td>Pre-K/EI</td>\n",
              "      <td>358</td>\n",
              "      <td>2</td>\n",
              "      <td>Heavy Traffic</td>\n",
              "      <td>C195</td>\n",
              "      <td>09/18/2015 07:36:00 AM</td>\n",
              "      <td>09/18/2015 07:38:00 AM</td>\n",
              "      <td>Bronx</td>\n",
              "      <td>...</td>\n",
              "      <td>15 MINUTES</td>\n",
              "      <td>12</td>\n",
              "      <td>Yes</td>\n",
              "      <td>Yes</td>\n",
              "      <td>Yes</td>\n",
              "      <td>09/18/2015 07:38:00 AM</td>\n",
              "      <td>NaN</td>\n",
              "      <td>09/18/2015 07:38:44 AM</td>\n",
              "      <td>Running Late</td>\n",
              "      <td>Pre-K</td>\n",
              "    </tr>\n",
              "    <tr>\n",
              "      <th>3</th>\n",
              "      <td>2015-2016</td>\n",
              "      <td>1215511</td>\n",
              "      <td>Pre-K/EI</td>\n",
              "      <td>331</td>\n",
              "      <td>2</td>\n",
              "      <td>Other</td>\n",
              "      <td>C178</td>\n",
              "      <td>09/17/2015 08:08:00 AM</td>\n",
              "      <td>09/17/2015 08:12:00 AM</td>\n",
              "      <td>Bronx</td>\n",
              "      <td>...</td>\n",
              "      <td>10 minutes</td>\n",
              "      <td>11</td>\n",
              "      <td>Yes</td>\n",
              "      <td>Yes</td>\n",
              "      <td>Yes</td>\n",
              "      <td>09/17/2015 08:12:00 AM</td>\n",
              "      <td>NaN</td>\n",
              "      <td>09/17/2015 08:12:08 AM</td>\n",
              "      <td>Running Late</td>\n",
              "      <td>Pre-K</td>\n",
              "    </tr>\n",
              "    <tr>\n",
              "      <th>4</th>\n",
              "      <td>2015-2016</td>\n",
              "      <td>1215828</td>\n",
              "      <td>Pre-K/EI</td>\n",
              "      <td>332</td>\n",
              "      <td>2</td>\n",
              "      <td>Other</td>\n",
              "      <td>S176</td>\n",
              "      <td>09/18/2015 07:39:00 AM</td>\n",
              "      <td>09/18/2015 07:45:00 AM</td>\n",
              "      <td>Bronx</td>\n",
              "      <td>...</td>\n",
              "      <td>10MINUTES</td>\n",
              "      <td>12</td>\n",
              "      <td>Yes</td>\n",
              "      <td>Yes</td>\n",
              "      <td>No</td>\n",
              "      <td>09/18/2015 07:45:00 AM</td>\n",
              "      <td>NaN</td>\n",
              "      <td>09/18/2015 07:56:40 AM</td>\n",
              "      <td>Running Late</td>\n",
              "      <td>Pre-K</td>\n",
              "    </tr>\n",
              "    <tr>\n",
              "      <th>...</th>\n",
              "      <td>...</td>\n",
              "      <td>...</td>\n",
              "      <td>...</td>\n",
              "      <td>...</td>\n",
              "      <td>...</td>\n",
              "      <td>...</td>\n",
              "      <td>...</td>\n",
              "      <td>...</td>\n",
              "      <td>...</td>\n",
              "      <td>...</td>\n",
              "      <td>...</td>\n",
              "      <td>...</td>\n",
              "      <td>...</td>\n",
              "      <td>...</td>\n",
              "      <td>...</td>\n",
              "      <td>...</td>\n",
              "      <td>...</td>\n",
              "      <td>...</td>\n",
              "      <td>...</td>\n",
              "      <td>...</td>\n",
              "      <td>...</td>\n",
              "    </tr>\n",
              "    <tr>\n",
              "      <th>36143</th>\n",
              "      <td>2015-2016</td>\n",
              "      <td>1256190</td>\n",
              "      <td>Special Ed AM Run</td>\n",
              "      <td>TN0355</td>\n",
              "      <td>L526</td>\n",
              "      <td>Other</td>\n",
              "      <td>21893</td>\n",
              "      <td>03/15/2016 08:40:00 AM</td>\n",
              "      <td>03/15/2016 08:54:00 AM</td>\n",
              "      <td>Brooklyn</td>\n",
              "      <td>...</td>\n",
              "      <td>25 mins</td>\n",
              "      <td>7</td>\n",
              "      <td>Yes</td>\n",
              "      <td>No</td>\n",
              "      <td>No</td>\n",
              "      <td>03/15/2016 08:54:00 AM</td>\n",
              "      <td>NaN</td>\n",
              "      <td>03/15/2016 08:54:38 AM</td>\n",
              "      <td>Running Late</td>\n",
              "      <td>School-Age</td>\n",
              "    </tr>\n",
              "    <tr>\n",
              "      <th>36144</th>\n",
              "      <td>2015-2016</td>\n",
              "      <td>1256191</td>\n",
              "      <td>General Ed Field Trip</td>\n",
              "      <td>10601</td>\n",
              "      <td>K3342</td>\n",
              "      <td>Mechanical Problem</td>\n",
              "      <td>21740</td>\n",
              "      <td>03/15/2016 08:48:00 AM</td>\n",
              "      <td>03/15/2016 08:59:00 AM</td>\n",
              "      <td>Brooklyn</td>\n",
              "      <td>...</td>\n",
              "      <td>45min</td>\n",
              "      <td>0</td>\n",
              "      <td>Yes</td>\n",
              "      <td>Yes</td>\n",
              "      <td>No</td>\n",
              "      <td>03/15/2016 08:59:00 AM</td>\n",
              "      <td>NaN</td>\n",
              "      <td>03/15/2016 08:59:35 AM</td>\n",
              "      <td>Running Late</td>\n",
              "      <td>School-Age</td>\n",
              "    </tr>\n",
              "    <tr>\n",
              "      <th>36145</th>\n",
              "      <td>2015-2016</td>\n",
              "      <td>1256193</td>\n",
              "      <td>Special Ed Field Trip</td>\n",
              "      <td>2527</td>\n",
              "      <td>L507</td>\n",
              "      <td>Mechanical Problem</td>\n",
              "      <td>21461</td>\n",
              "      <td>03/15/2016 09:17:00 AM</td>\n",
              "      <td>03/15/2016 09:19:00 AM</td>\n",
              "      <td>NaN</td>\n",
              "      <td>...</td>\n",
              "      <td>NaN</td>\n",
              "      <td>0</td>\n",
              "      <td>Yes</td>\n",
              "      <td>Yes</td>\n",
              "      <td>Yes</td>\n",
              "      <td>03/15/2016 09:19:00 AM</td>\n",
              "      <td>NaN</td>\n",
              "      <td>03/15/2016 09:19:19 AM</td>\n",
              "      <td>Breakdown</td>\n",
              "      <td>School-Age</td>\n",
              "    </tr>\n",
              "    <tr>\n",
              "      <th>36146</th>\n",
              "      <td>2015-2016</td>\n",
              "      <td>1256194</td>\n",
              "      <td>Pre-K/EI</td>\n",
              "      <td>12495</td>\n",
              "      <td>B0251W</td>\n",
              "      <td>Heavy Traffic</td>\n",
              "      <td>E083</td>\n",
              "      <td>03/15/2016 10:15:00 AM</td>\n",
              "      <td>03/15/2016 10:30:00 AM</td>\n",
              "      <td>Brooklyn</td>\n",
              "      <td>...</td>\n",
              "      <td>30 min</td>\n",
              "      <td>0</td>\n",
              "      <td>Yes</td>\n",
              "      <td>Yes</td>\n",
              "      <td>Yes</td>\n",
              "      <td>03/15/2016 10:30:00 AM</td>\n",
              "      <td>NaN</td>\n",
              "      <td>03/15/2016 10:30:31 AM</td>\n",
              "      <td>Running Late</td>\n",
              "      <td>Pre-K</td>\n",
              "    </tr>\n",
              "    <tr>\n",
              "      <th>36147</th>\n",
              "      <td>2015-2016</td>\n",
              "      <td>1256195</td>\n",
              "      <td>Special Ed Field Trip</td>\n",
              "      <td>4507</td>\n",
              "      <td>K481</td>\n",
              "      <td>Other</td>\n",
              "      <td>21468</td>\n",
              "      <td>03/15/2016 11:51:00 AM</td>\n",
              "      <td>03/15/2016 11:55:00 AM</td>\n",
              "      <td>Brooklyn</td>\n",
              "      <td>...</td>\n",
              "      <td>15MINS</td>\n",
              "      <td>0</td>\n",
              "      <td>Yes</td>\n",
              "      <td>Yes</td>\n",
              "      <td>Yes</td>\n",
              "      <td>03/15/2016 11:55:00 AM</td>\n",
              "      <td>NaN</td>\n",
              "      <td>03/15/2016 01:52:35 PM</td>\n",
              "      <td>NaN</td>\n",
              "      <td>NaN</td>\n",
              "    </tr>\n",
              "  </tbody>\n",
              "</table>\n",
              "<p>36148 rows × 21 columns</p>\n",
              "</div>\n",
              "    <div class=\"colab-df-buttons\">\n",
              "\n",
              "  <div class=\"colab-df-container\">\n",
              "    <button class=\"colab-df-convert\" onclick=\"convertToInteractive('df-36552e4b-fc00-43ea-bc9e-7bc31c9acfd9')\"\n",
              "            title=\"Convert this dataframe to an interactive table.\"\n",
              "            style=\"display:none;\">\n",
              "\n",
              "  <svg xmlns=\"http://www.w3.org/2000/svg\" height=\"24px\" viewBox=\"0 -960 960 960\">\n",
              "    <path d=\"M120-120v-720h720v720H120Zm60-500h600v-160H180v160Zm220 220h160v-160H400v160Zm0 220h160v-160H400v160ZM180-400h160v-160H180v160Zm440 0h160v-160H620v160ZM180-180h160v-160H180v160Zm440 0h160v-160H620v160Z\"/>\n",
              "  </svg>\n",
              "    </button>\n",
              "\n",
              "  <style>\n",
              "    .colab-df-container {\n",
              "      display:flex;\n",
              "      gap: 12px;\n",
              "    }\n",
              "\n",
              "    .colab-df-convert {\n",
              "      background-color: #E8F0FE;\n",
              "      border: none;\n",
              "      border-radius: 50%;\n",
              "      cursor: pointer;\n",
              "      display: none;\n",
              "      fill: #1967D2;\n",
              "      height: 32px;\n",
              "      padding: 0 0 0 0;\n",
              "      width: 32px;\n",
              "    }\n",
              "\n",
              "    .colab-df-convert:hover {\n",
              "      background-color: #E2EBFA;\n",
              "      box-shadow: 0px 1px 2px rgba(60, 64, 67, 0.3), 0px 1px 3px 1px rgba(60, 64, 67, 0.15);\n",
              "      fill: #174EA6;\n",
              "    }\n",
              "\n",
              "    .colab-df-buttons div {\n",
              "      margin-bottom: 4px;\n",
              "    }\n",
              "\n",
              "    [theme=dark] .colab-df-convert {\n",
              "      background-color: #3B4455;\n",
              "      fill: #D2E3FC;\n",
              "    }\n",
              "\n",
              "    [theme=dark] .colab-df-convert:hover {\n",
              "      background-color: #434B5C;\n",
              "      box-shadow: 0px 1px 3px 1px rgba(0, 0, 0, 0.15);\n",
              "      filter: drop-shadow(0px 1px 2px rgba(0, 0, 0, 0.3));\n",
              "      fill: #FFFFFF;\n",
              "    }\n",
              "  </style>\n",
              "\n",
              "    <script>\n",
              "      const buttonEl =\n",
              "        document.querySelector('#df-36552e4b-fc00-43ea-bc9e-7bc31c9acfd9 button.colab-df-convert');\n",
              "      buttonEl.style.display =\n",
              "        google.colab.kernel.accessAllowed ? 'block' : 'none';\n",
              "\n",
              "      async function convertToInteractive(key) {\n",
              "        const element = document.querySelector('#df-36552e4b-fc00-43ea-bc9e-7bc31c9acfd9');\n",
              "        const dataTable =\n",
              "          await google.colab.kernel.invokeFunction('convertToInteractive',\n",
              "                                                    [key], {});\n",
              "        if (!dataTable) return;\n",
              "\n",
              "        const docLinkHtml = 'Like what you see? Visit the ' +\n",
              "          '<a target=\"_blank\" href=https://colab.research.google.com/notebooks/data_table.ipynb>data table notebook</a>'\n",
              "          + ' to learn more about interactive tables.';\n",
              "        element.innerHTML = '';\n",
              "        dataTable['output_type'] = 'display_data';\n",
              "        await google.colab.output.renderOutput(dataTable, element);\n",
              "        const docLink = document.createElement('div');\n",
              "        docLink.innerHTML = docLinkHtml;\n",
              "        element.appendChild(docLink);\n",
              "      }\n",
              "    </script>\n",
              "  </div>\n",
              "\n",
              "\n",
              "<div id=\"df-282971bc-2c26-4bc4-80c6-f2655c6d3f00\">\n",
              "  <button class=\"colab-df-quickchart\" onclick=\"quickchart('df-282971bc-2c26-4bc4-80c6-f2655c6d3f00')\"\n",
              "            title=\"Suggest charts\"\n",
              "            style=\"display:none;\">\n",
              "\n",
              "<svg xmlns=\"http://www.w3.org/2000/svg\" height=\"24px\"viewBox=\"0 0 24 24\"\n",
              "     width=\"24px\">\n",
              "    <g>\n",
              "        <path d=\"M19 3H5c-1.1 0-2 .9-2 2v14c0 1.1.9 2 2 2h14c1.1 0 2-.9 2-2V5c0-1.1-.9-2-2-2zM9 17H7v-7h2v7zm4 0h-2V7h2v10zm4 0h-2v-4h2v4z\"/>\n",
              "    </g>\n",
              "</svg>\n",
              "  </button>\n",
              "\n",
              "<style>\n",
              "  .colab-df-quickchart {\n",
              "      --bg-color: #E8F0FE;\n",
              "      --fill-color: #1967D2;\n",
              "      --hover-bg-color: #E2EBFA;\n",
              "      --hover-fill-color: #174EA6;\n",
              "      --disabled-fill-color: #AAA;\n",
              "      --disabled-bg-color: #DDD;\n",
              "  }\n",
              "\n",
              "  [theme=dark] .colab-df-quickchart {\n",
              "      --bg-color: #3B4455;\n",
              "      --fill-color: #D2E3FC;\n",
              "      --hover-bg-color: #434B5C;\n",
              "      --hover-fill-color: #FFFFFF;\n",
              "      --disabled-bg-color: #3B4455;\n",
              "      --disabled-fill-color: #666;\n",
              "  }\n",
              "\n",
              "  .colab-df-quickchart {\n",
              "    background-color: var(--bg-color);\n",
              "    border: none;\n",
              "    border-radius: 50%;\n",
              "    cursor: pointer;\n",
              "    display: none;\n",
              "    fill: var(--fill-color);\n",
              "    height: 32px;\n",
              "    padding: 0;\n",
              "    width: 32px;\n",
              "  }\n",
              "\n",
              "  .colab-df-quickchart:hover {\n",
              "    background-color: var(--hover-bg-color);\n",
              "    box-shadow: 0 1px 2px rgba(60, 64, 67, 0.3), 0 1px 3px 1px rgba(60, 64, 67, 0.15);\n",
              "    fill: var(--button-hover-fill-color);\n",
              "  }\n",
              "\n",
              "  .colab-df-quickchart-complete:disabled,\n",
              "  .colab-df-quickchart-complete:disabled:hover {\n",
              "    background-color: var(--disabled-bg-color);\n",
              "    fill: var(--disabled-fill-color);\n",
              "    box-shadow: none;\n",
              "  }\n",
              "\n",
              "  .colab-df-spinner {\n",
              "    border: 2px solid var(--fill-color);\n",
              "    border-color: transparent;\n",
              "    border-bottom-color: var(--fill-color);\n",
              "    animation:\n",
              "      spin 1s steps(1) infinite;\n",
              "  }\n",
              "\n",
              "  @keyframes spin {\n",
              "    0% {\n",
              "      border-color: transparent;\n",
              "      border-bottom-color: var(--fill-color);\n",
              "      border-left-color: var(--fill-color);\n",
              "    }\n",
              "    20% {\n",
              "      border-color: transparent;\n",
              "      border-left-color: var(--fill-color);\n",
              "      border-top-color: var(--fill-color);\n",
              "    }\n",
              "    30% {\n",
              "      border-color: transparent;\n",
              "      border-left-color: var(--fill-color);\n",
              "      border-top-color: var(--fill-color);\n",
              "      border-right-color: var(--fill-color);\n",
              "    }\n",
              "    40% {\n",
              "      border-color: transparent;\n",
              "      border-right-color: var(--fill-color);\n",
              "      border-top-color: var(--fill-color);\n",
              "    }\n",
              "    60% {\n",
              "      border-color: transparent;\n",
              "      border-right-color: var(--fill-color);\n",
              "    }\n",
              "    80% {\n",
              "      border-color: transparent;\n",
              "      border-right-color: var(--fill-color);\n",
              "      border-bottom-color: var(--fill-color);\n",
              "    }\n",
              "    90% {\n",
              "      border-color: transparent;\n",
              "      border-bottom-color: var(--fill-color);\n",
              "    }\n",
              "  }\n",
              "</style>\n",
              "\n",
              "  <script>\n",
              "    async function quickchart(key) {\n",
              "      const quickchartButtonEl =\n",
              "        document.querySelector('#' + key + ' button');\n",
              "      quickchartButtonEl.disabled = true;  // To prevent multiple clicks.\n",
              "      quickchartButtonEl.classList.add('colab-df-spinner');\n",
              "      try {\n",
              "        const charts = await google.colab.kernel.invokeFunction(\n",
              "            'suggestCharts', [key], {});\n",
              "      } catch (error) {\n",
              "        console.error('Error during call to suggestCharts:', error);\n",
              "      }\n",
              "      quickchartButtonEl.classList.remove('colab-df-spinner');\n",
              "      quickchartButtonEl.classList.add('colab-df-quickchart-complete');\n",
              "    }\n",
              "    (() => {\n",
              "      let quickchartButtonEl =\n",
              "        document.querySelector('#df-282971bc-2c26-4bc4-80c6-f2655c6d3f00 button');\n",
              "      quickchartButtonEl.style.display =\n",
              "        google.colab.kernel.accessAllowed ? 'block' : 'none';\n",
              "    })();\n",
              "  </script>\n",
              "</div>\n",
              "\n",
              "  <div id=\"id_c4628559-9530-4974-9837-23f8570ae4a3\">\n",
              "    <style>\n",
              "      .colab-df-generate {\n",
              "        background-color: #E8F0FE;\n",
              "        border: none;\n",
              "        border-radius: 50%;\n",
              "        cursor: pointer;\n",
              "        display: none;\n",
              "        fill: #1967D2;\n",
              "        height: 32px;\n",
              "        padding: 0 0 0 0;\n",
              "        width: 32px;\n",
              "      }\n",
              "\n",
              "      .colab-df-generate:hover {\n",
              "        background-color: #E2EBFA;\n",
              "        box-shadow: 0px 1px 2px rgba(60, 64, 67, 0.3), 0px 1px 3px 1px rgba(60, 64, 67, 0.15);\n",
              "        fill: #174EA6;\n",
              "      }\n",
              "\n",
              "      [theme=dark] .colab-df-generate {\n",
              "        background-color: #3B4455;\n",
              "        fill: #D2E3FC;\n",
              "      }\n",
              "\n",
              "      [theme=dark] .colab-df-generate:hover {\n",
              "        background-color: #434B5C;\n",
              "        box-shadow: 0px 1px 3px 1px rgba(0, 0, 0, 0.15);\n",
              "        filter: drop-shadow(0px 1px 2px rgba(0, 0, 0, 0.3));\n",
              "        fill: #FFFFFF;\n",
              "      }\n",
              "    </style>\n",
              "    <button class=\"colab-df-generate\" onclick=\"generateWithVariable('df')\"\n",
              "            title=\"Generate code using this dataframe.\"\n",
              "            style=\"display:none;\">\n",
              "\n",
              "  <svg xmlns=\"http://www.w3.org/2000/svg\" height=\"24px\"viewBox=\"0 0 24 24\"\n",
              "       width=\"24px\">\n",
              "    <path d=\"M7,19H8.4L18.45,9,17,7.55,7,17.6ZM5,21V16.75L18.45,3.32a2,2,0,0,1,2.83,0l1.4,1.43a1.91,1.91,0,0,1,.58,1.4,1.91,1.91,0,0,1-.58,1.4L9.25,21ZM18.45,9,17,7.55Zm-12,3A5.31,5.31,0,0,0,4.9,8.1,5.31,5.31,0,0,0,1,6.5,5.31,5.31,0,0,0,4.9,4.9,5.31,5.31,0,0,0,6.5,1,5.31,5.31,0,0,0,8.1,4.9,5.31,5.31,0,0,0,12,6.5,5.46,5.46,0,0,0,6.5,12Z\"/>\n",
              "  </svg>\n",
              "    </button>\n",
              "    <script>\n",
              "      (() => {\n",
              "      const buttonEl =\n",
              "        document.querySelector('#id_c4628559-9530-4974-9837-23f8570ae4a3 button.colab-df-generate');\n",
              "      buttonEl.style.display =\n",
              "        google.colab.kernel.accessAllowed ? 'block' : 'none';\n",
              "\n",
              "      buttonEl.onclick = () => {\n",
              "        google.colab.notebook.generateWithVariable('df');\n",
              "      }\n",
              "      })();\n",
              "    </script>\n",
              "  </div>\n",
              "\n",
              "    </div>\n",
              "  </div>\n"
            ],
            "application/vnd.google.colaboratory.intrinsic+json": {
              "type": "dataframe",
              "variable_name": "df"
            }
          },
          "metadata": {},
          "execution_count": 4
        }
      ]
    },
    {
      "cell_type": "code",
      "source": [
        "df.info()"
      ],
      "metadata": {
        "colab": {
          "base_uri": "https://localhost:8080/"
        },
        "collapsed": true,
        "id": "jpz2-cBx6ziJ",
        "outputId": "ccba4d42-2bc6-4e03-a2b2-fb3c163ac155"
      },
      "id": "jpz2-cBx6ziJ",
      "execution_count": null,
      "outputs": [
        {
          "output_type": "stream",
          "name": "stdout",
          "text": [
            "<class 'pandas.core.frame.DataFrame'>\n",
            "RangeIndex: 36148 entries, 0 to 36147\n",
            "Data columns (total 21 columns):\n",
            " #   Column                           Non-Null Count  Dtype \n",
            "---  ------                           --------------  ----- \n",
            " 0   School_Year                      36148 non-null  object\n",
            " 1   Busbreakdown_ID                  36148 non-null  int64 \n",
            " 2   Run_Type                         36130 non-null  object\n",
            " 3   Bus_No                           36148 non-null  object\n",
            " 4   Route_Number                     36121 non-null  object\n",
            " 5   Reason                           36117 non-null  object\n",
            " 6   Schools_Serviced                 36148 non-null  object\n",
            " 7   Occurred_On                      36148 non-null  object\n",
            " 8   Created_On                       36148 non-null  object\n",
            " 9   Boro                             34836 non-null  object\n",
            " 10  Bus_Company_Name                 36148 non-null  object\n",
            " 11  How_Long_Delayed                 30491 non-null  object\n",
            " 12  Number_Of_Students_On_The_Bus    36148 non-null  int64 \n",
            " 13  Has_Contractor_Notified_Schools  36148 non-null  object\n",
            " 14  Has_Contractor_Notified_Parents  36148 non-null  object\n",
            " 15  Have_You_Alerted_OPT             36148 non-null  object\n",
            " 16  Informed_On                      36148 non-null  object\n",
            " 17  Incident_Number                  845 non-null    object\n",
            " 18  Last_Updated_On                  36148 non-null  object\n",
            " 19  Breakdown_or_Running_Late        36147 non-null  object\n",
            " 20  School_Age_or_PreK               36147 non-null  object\n",
            "dtypes: int64(2), object(19)\n",
            "memory usage: 5.8+ MB\n"
          ]
        }
      ]
    },
    {
      "cell_type": "code",
      "source": [
        "df.describe()"
      ],
      "metadata": {
        "collapsed": true,
        "colab": {
          "base_uri": "https://localhost:8080/",
          "height": 300
        },
        "id": "vJlHE3G86vQP",
        "outputId": "a6da65f8-744b-4152-80c7-22717ccae84c"
      },
      "id": "vJlHE3G86vQP",
      "execution_count": null,
      "outputs": [
        {
          "output_type": "execute_result",
          "data": {
            "text/plain": [
              "       Busbreakdown_ID  Number_Of_Students_On_The_Bus\n",
              "count     3.614800e+04                   36148.000000\n",
              "mean      1.235812e+06                       4.252351\n",
              "std       1.329511e+04                      66.385886\n",
              "min       1.212691e+06                       0.000000\n",
              "25%       1.226533e+06                       0.000000\n",
              "50%       1.236466e+06                       1.000000\n",
              "75%       1.246466e+06                       4.000000\n",
              "max       1.361694e+06                    9007.000000"
            ],
            "text/html": [
              "\n",
              "  <div id=\"df-df7104d1-55a1-4b6b-a3ed-958f3d37e6bc\" class=\"colab-df-container\">\n",
              "    <div>\n",
              "<style scoped>\n",
              "    .dataframe tbody tr th:only-of-type {\n",
              "        vertical-align: middle;\n",
              "    }\n",
              "\n",
              "    .dataframe tbody tr th {\n",
              "        vertical-align: top;\n",
              "    }\n",
              "\n",
              "    .dataframe thead th {\n",
              "        text-align: right;\n",
              "    }\n",
              "</style>\n",
              "<table border=\"1\" class=\"dataframe\">\n",
              "  <thead>\n",
              "    <tr style=\"text-align: right;\">\n",
              "      <th></th>\n",
              "      <th>Busbreakdown_ID</th>\n",
              "      <th>Number_Of_Students_On_The_Bus</th>\n",
              "    </tr>\n",
              "  </thead>\n",
              "  <tbody>\n",
              "    <tr>\n",
              "      <th>count</th>\n",
              "      <td>3.614800e+04</td>\n",
              "      <td>36148.000000</td>\n",
              "    </tr>\n",
              "    <tr>\n",
              "      <th>mean</th>\n",
              "      <td>1.235812e+06</td>\n",
              "      <td>4.252351</td>\n",
              "    </tr>\n",
              "    <tr>\n",
              "      <th>std</th>\n",
              "      <td>1.329511e+04</td>\n",
              "      <td>66.385886</td>\n",
              "    </tr>\n",
              "    <tr>\n",
              "      <th>min</th>\n",
              "      <td>1.212691e+06</td>\n",
              "      <td>0.000000</td>\n",
              "    </tr>\n",
              "    <tr>\n",
              "      <th>25%</th>\n",
              "      <td>1.226533e+06</td>\n",
              "      <td>0.000000</td>\n",
              "    </tr>\n",
              "    <tr>\n",
              "      <th>50%</th>\n",
              "      <td>1.236466e+06</td>\n",
              "      <td>1.000000</td>\n",
              "    </tr>\n",
              "    <tr>\n",
              "      <th>75%</th>\n",
              "      <td>1.246466e+06</td>\n",
              "      <td>4.000000</td>\n",
              "    </tr>\n",
              "    <tr>\n",
              "      <th>max</th>\n",
              "      <td>1.361694e+06</td>\n",
              "      <td>9007.000000</td>\n",
              "    </tr>\n",
              "  </tbody>\n",
              "</table>\n",
              "</div>\n",
              "    <div class=\"colab-df-buttons\">\n",
              "\n",
              "  <div class=\"colab-df-container\">\n",
              "    <button class=\"colab-df-convert\" onclick=\"convertToInteractive('df-df7104d1-55a1-4b6b-a3ed-958f3d37e6bc')\"\n",
              "            title=\"Convert this dataframe to an interactive table.\"\n",
              "            style=\"display:none;\">\n",
              "\n",
              "  <svg xmlns=\"http://www.w3.org/2000/svg\" height=\"24px\" viewBox=\"0 -960 960 960\">\n",
              "    <path d=\"M120-120v-720h720v720H120Zm60-500h600v-160H180v160Zm220 220h160v-160H400v160Zm0 220h160v-160H400v160ZM180-400h160v-160H180v160Zm440 0h160v-160H620v160ZM180-180h160v-160H180v160Zm440 0h160v-160H620v160Z\"/>\n",
              "  </svg>\n",
              "    </button>\n",
              "\n",
              "  <style>\n",
              "    .colab-df-container {\n",
              "      display:flex;\n",
              "      gap: 12px;\n",
              "    }\n",
              "\n",
              "    .colab-df-convert {\n",
              "      background-color: #E8F0FE;\n",
              "      border: none;\n",
              "      border-radius: 50%;\n",
              "      cursor: pointer;\n",
              "      display: none;\n",
              "      fill: #1967D2;\n",
              "      height: 32px;\n",
              "      padding: 0 0 0 0;\n",
              "      width: 32px;\n",
              "    }\n",
              "\n",
              "    .colab-df-convert:hover {\n",
              "      background-color: #E2EBFA;\n",
              "      box-shadow: 0px 1px 2px rgba(60, 64, 67, 0.3), 0px 1px 3px 1px rgba(60, 64, 67, 0.15);\n",
              "      fill: #174EA6;\n",
              "    }\n",
              "\n",
              "    .colab-df-buttons div {\n",
              "      margin-bottom: 4px;\n",
              "    }\n",
              "\n",
              "    [theme=dark] .colab-df-convert {\n",
              "      background-color: #3B4455;\n",
              "      fill: #D2E3FC;\n",
              "    }\n",
              "\n",
              "    [theme=dark] .colab-df-convert:hover {\n",
              "      background-color: #434B5C;\n",
              "      box-shadow: 0px 1px 3px 1px rgba(0, 0, 0, 0.15);\n",
              "      filter: drop-shadow(0px 1px 2px rgba(0, 0, 0, 0.3));\n",
              "      fill: #FFFFFF;\n",
              "    }\n",
              "  </style>\n",
              "\n",
              "    <script>\n",
              "      const buttonEl =\n",
              "        document.querySelector('#df-df7104d1-55a1-4b6b-a3ed-958f3d37e6bc button.colab-df-convert');\n",
              "      buttonEl.style.display =\n",
              "        google.colab.kernel.accessAllowed ? 'block' : 'none';\n",
              "\n",
              "      async function convertToInteractive(key) {\n",
              "        const element = document.querySelector('#df-df7104d1-55a1-4b6b-a3ed-958f3d37e6bc');\n",
              "        const dataTable =\n",
              "          await google.colab.kernel.invokeFunction('convertToInteractive',\n",
              "                                                    [key], {});\n",
              "        if (!dataTable) return;\n",
              "\n",
              "        const docLinkHtml = 'Like what you see? Visit the ' +\n",
              "          '<a target=\"_blank\" href=https://colab.research.google.com/notebooks/data_table.ipynb>data table notebook</a>'\n",
              "          + ' to learn more about interactive tables.';\n",
              "        element.innerHTML = '';\n",
              "        dataTable['output_type'] = 'display_data';\n",
              "        await google.colab.output.renderOutput(dataTable, element);\n",
              "        const docLink = document.createElement('div');\n",
              "        docLink.innerHTML = docLinkHtml;\n",
              "        element.appendChild(docLink);\n",
              "      }\n",
              "    </script>\n",
              "  </div>\n",
              "\n",
              "\n",
              "<div id=\"df-e196d974-8120-4a74-9472-c22f78201b25\">\n",
              "  <button class=\"colab-df-quickchart\" onclick=\"quickchart('df-e196d974-8120-4a74-9472-c22f78201b25')\"\n",
              "            title=\"Suggest charts\"\n",
              "            style=\"display:none;\">\n",
              "\n",
              "<svg xmlns=\"http://www.w3.org/2000/svg\" height=\"24px\"viewBox=\"0 0 24 24\"\n",
              "     width=\"24px\">\n",
              "    <g>\n",
              "        <path d=\"M19 3H5c-1.1 0-2 .9-2 2v14c0 1.1.9 2 2 2h14c1.1 0 2-.9 2-2V5c0-1.1-.9-2-2-2zM9 17H7v-7h2v7zm4 0h-2V7h2v10zm4 0h-2v-4h2v4z\"/>\n",
              "    </g>\n",
              "</svg>\n",
              "  </button>\n",
              "\n",
              "<style>\n",
              "  .colab-df-quickchart {\n",
              "      --bg-color: #E8F0FE;\n",
              "      --fill-color: #1967D2;\n",
              "      --hover-bg-color: #E2EBFA;\n",
              "      --hover-fill-color: #174EA6;\n",
              "      --disabled-fill-color: #AAA;\n",
              "      --disabled-bg-color: #DDD;\n",
              "  }\n",
              "\n",
              "  [theme=dark] .colab-df-quickchart {\n",
              "      --bg-color: #3B4455;\n",
              "      --fill-color: #D2E3FC;\n",
              "      --hover-bg-color: #434B5C;\n",
              "      --hover-fill-color: #FFFFFF;\n",
              "      --disabled-bg-color: #3B4455;\n",
              "      --disabled-fill-color: #666;\n",
              "  }\n",
              "\n",
              "  .colab-df-quickchart {\n",
              "    background-color: var(--bg-color);\n",
              "    border: none;\n",
              "    border-radius: 50%;\n",
              "    cursor: pointer;\n",
              "    display: none;\n",
              "    fill: var(--fill-color);\n",
              "    height: 32px;\n",
              "    padding: 0;\n",
              "    width: 32px;\n",
              "  }\n",
              "\n",
              "  .colab-df-quickchart:hover {\n",
              "    background-color: var(--hover-bg-color);\n",
              "    box-shadow: 0 1px 2px rgba(60, 64, 67, 0.3), 0 1px 3px 1px rgba(60, 64, 67, 0.15);\n",
              "    fill: var(--button-hover-fill-color);\n",
              "  }\n",
              "\n",
              "  .colab-df-quickchart-complete:disabled,\n",
              "  .colab-df-quickchart-complete:disabled:hover {\n",
              "    background-color: var(--disabled-bg-color);\n",
              "    fill: var(--disabled-fill-color);\n",
              "    box-shadow: none;\n",
              "  }\n",
              "\n",
              "  .colab-df-spinner {\n",
              "    border: 2px solid var(--fill-color);\n",
              "    border-color: transparent;\n",
              "    border-bottom-color: var(--fill-color);\n",
              "    animation:\n",
              "      spin 1s steps(1) infinite;\n",
              "  }\n",
              "\n",
              "  @keyframes spin {\n",
              "    0% {\n",
              "      border-color: transparent;\n",
              "      border-bottom-color: var(--fill-color);\n",
              "      border-left-color: var(--fill-color);\n",
              "    }\n",
              "    20% {\n",
              "      border-color: transparent;\n",
              "      border-left-color: var(--fill-color);\n",
              "      border-top-color: var(--fill-color);\n",
              "    }\n",
              "    30% {\n",
              "      border-color: transparent;\n",
              "      border-left-color: var(--fill-color);\n",
              "      border-top-color: var(--fill-color);\n",
              "      border-right-color: var(--fill-color);\n",
              "    }\n",
              "    40% {\n",
              "      border-color: transparent;\n",
              "      border-right-color: var(--fill-color);\n",
              "      border-top-color: var(--fill-color);\n",
              "    }\n",
              "    60% {\n",
              "      border-color: transparent;\n",
              "      border-right-color: var(--fill-color);\n",
              "    }\n",
              "    80% {\n",
              "      border-color: transparent;\n",
              "      border-right-color: var(--fill-color);\n",
              "      border-bottom-color: var(--fill-color);\n",
              "    }\n",
              "    90% {\n",
              "      border-color: transparent;\n",
              "      border-bottom-color: var(--fill-color);\n",
              "    }\n",
              "  }\n",
              "</style>\n",
              "\n",
              "  <script>\n",
              "    async function quickchart(key) {\n",
              "      const quickchartButtonEl =\n",
              "        document.querySelector('#' + key + ' button');\n",
              "      quickchartButtonEl.disabled = true;  // To prevent multiple clicks.\n",
              "      quickchartButtonEl.classList.add('colab-df-spinner');\n",
              "      try {\n",
              "        const charts = await google.colab.kernel.invokeFunction(\n",
              "            'suggestCharts', [key], {});\n",
              "      } catch (error) {\n",
              "        console.error('Error during call to suggestCharts:', error);\n",
              "      }\n",
              "      quickchartButtonEl.classList.remove('colab-df-spinner');\n",
              "      quickchartButtonEl.classList.add('colab-df-quickchart-complete');\n",
              "    }\n",
              "    (() => {\n",
              "      let quickchartButtonEl =\n",
              "        document.querySelector('#df-e196d974-8120-4a74-9472-c22f78201b25 button');\n",
              "      quickchartButtonEl.style.display =\n",
              "        google.colab.kernel.accessAllowed ? 'block' : 'none';\n",
              "    })();\n",
              "  </script>\n",
              "</div>\n",
              "\n",
              "    </div>\n",
              "  </div>\n"
            ],
            "application/vnd.google.colaboratory.intrinsic+json": {
              "type": "dataframe",
              "summary": "{\n  \"name\": \"df\",\n  \"rows\": 8,\n  \"fields\": [\n    {\n      \"column\": \"Busbreakdown_ID\",\n      \"properties\": {\n        \"dtype\": \"number\",\n        \"std\": 570593.0388886337,\n        \"min\": 13295.110162599927,\n        \"max\": 1361694.0,\n        \"num_unique_values\": 8,\n        \"samples\": [\n          1235812.0453413744,\n          1236466.5,\n          36148.0\n        ],\n        \"semantic_type\": \"\",\n        \"description\": \"\"\n      }\n    },\n    {\n      \"column\": \"Number_Of_Students_On_The_Bus\",\n      \"properties\": {\n        \"dtype\": \"number\",\n        \"std\": 12717.154138879367,\n        \"min\": 0.0,\n        \"max\": 36148.0,\n        \"num_unique_values\": 7,\n        \"samples\": [\n          36148.0,\n          4.2523514440632955,\n          4.0\n        ],\n        \"semantic_type\": \"\",\n        \"description\": \"\"\n      }\n    }\n  ]\n}"
            }
          },
          "metadata": {},
          "execution_count": 6
        }
      ]
    },
    {
      "cell_type": "code",
      "source": [
        "df.isna().sum()"
      ],
      "metadata": {
        "colab": {
          "base_uri": "https://localhost:8080/",
          "height": 743
        },
        "collapsed": true,
        "id": "Tridsfvy6lpW",
        "outputId": "f9a38045-52a0-492b-f2e7-7717a8692c8b"
      },
      "id": "Tridsfvy6lpW",
      "execution_count": null,
      "outputs": [
        {
          "output_type": "execute_result",
          "data": {
            "text/plain": [
              "School_Year                            0\n",
              "Busbreakdown_ID                        0\n",
              "Run_Type                              18\n",
              "Bus_No                                 0\n",
              "Route_Number                          27\n",
              "Reason                                31\n",
              "Schools_Serviced                       0\n",
              "Occurred_On                            0\n",
              "Created_On                             0\n",
              "Boro                                1312\n",
              "Bus_Company_Name                       0\n",
              "How_Long_Delayed                    5657\n",
              "Number_Of_Students_On_The_Bus          0\n",
              "Has_Contractor_Notified_Schools        0\n",
              "Has_Contractor_Notified_Parents        0\n",
              "Have_You_Alerted_OPT                   0\n",
              "Informed_On                            0\n",
              "Incident_Number                    35303\n",
              "Last_Updated_On                        0\n",
              "Breakdown_or_Running_Late              1\n",
              "School_Age_or_PreK                     1\n",
              "dtype: int64"
            ],
            "text/html": [
              "<div>\n",
              "<style scoped>\n",
              "    .dataframe tbody tr th:only-of-type {\n",
              "        vertical-align: middle;\n",
              "    }\n",
              "\n",
              "    .dataframe tbody tr th {\n",
              "        vertical-align: top;\n",
              "    }\n",
              "\n",
              "    .dataframe thead th {\n",
              "        text-align: right;\n",
              "    }\n",
              "</style>\n",
              "<table border=\"1\" class=\"dataframe\">\n",
              "  <thead>\n",
              "    <tr style=\"text-align: right;\">\n",
              "      <th></th>\n",
              "      <th>0</th>\n",
              "    </tr>\n",
              "  </thead>\n",
              "  <tbody>\n",
              "    <tr>\n",
              "      <th>School_Year</th>\n",
              "      <td>0</td>\n",
              "    </tr>\n",
              "    <tr>\n",
              "      <th>Busbreakdown_ID</th>\n",
              "      <td>0</td>\n",
              "    </tr>\n",
              "    <tr>\n",
              "      <th>Run_Type</th>\n",
              "      <td>18</td>\n",
              "    </tr>\n",
              "    <tr>\n",
              "      <th>Bus_No</th>\n",
              "      <td>0</td>\n",
              "    </tr>\n",
              "    <tr>\n",
              "      <th>Route_Number</th>\n",
              "      <td>27</td>\n",
              "    </tr>\n",
              "    <tr>\n",
              "      <th>Reason</th>\n",
              "      <td>31</td>\n",
              "    </tr>\n",
              "    <tr>\n",
              "      <th>Schools_Serviced</th>\n",
              "      <td>0</td>\n",
              "    </tr>\n",
              "    <tr>\n",
              "      <th>Occurred_On</th>\n",
              "      <td>0</td>\n",
              "    </tr>\n",
              "    <tr>\n",
              "      <th>Created_On</th>\n",
              "      <td>0</td>\n",
              "    </tr>\n",
              "    <tr>\n",
              "      <th>Boro</th>\n",
              "      <td>1312</td>\n",
              "    </tr>\n",
              "    <tr>\n",
              "      <th>Bus_Company_Name</th>\n",
              "      <td>0</td>\n",
              "    </tr>\n",
              "    <tr>\n",
              "      <th>How_Long_Delayed</th>\n",
              "      <td>5657</td>\n",
              "    </tr>\n",
              "    <tr>\n",
              "      <th>Number_Of_Students_On_The_Bus</th>\n",
              "      <td>0</td>\n",
              "    </tr>\n",
              "    <tr>\n",
              "      <th>Has_Contractor_Notified_Schools</th>\n",
              "      <td>0</td>\n",
              "    </tr>\n",
              "    <tr>\n",
              "      <th>Has_Contractor_Notified_Parents</th>\n",
              "      <td>0</td>\n",
              "    </tr>\n",
              "    <tr>\n",
              "      <th>Have_You_Alerted_OPT</th>\n",
              "      <td>0</td>\n",
              "    </tr>\n",
              "    <tr>\n",
              "      <th>Informed_On</th>\n",
              "      <td>0</td>\n",
              "    </tr>\n",
              "    <tr>\n",
              "      <th>Incident_Number</th>\n",
              "      <td>35303</td>\n",
              "    </tr>\n",
              "    <tr>\n",
              "      <th>Last_Updated_On</th>\n",
              "      <td>0</td>\n",
              "    </tr>\n",
              "    <tr>\n",
              "      <th>Breakdown_or_Running_Late</th>\n",
              "      <td>1</td>\n",
              "    </tr>\n",
              "    <tr>\n",
              "      <th>School_Age_or_PreK</th>\n",
              "      <td>1</td>\n",
              "    </tr>\n",
              "  </tbody>\n",
              "</table>\n",
              "</div><br><label><b>dtype:</b> int64</label>"
            ]
          },
          "metadata": {},
          "execution_count": 8
        }
      ]
    },
    {
      "cell_type": "code",
      "source": [
        "df = df.dropna()\n"
      ],
      "metadata": {
        "id": "emBG9HHU694q"
      },
      "id": "emBG9HHU694q",
      "execution_count": null,
      "outputs": []
    },
    {
      "cell_type": "code",
      "source": [
        "# Distribution of features + Select numerical columns\n",
        "numerical_cols = df.select_dtypes(include=['int']).columns"
      ],
      "metadata": {
        "id": "1AHMQe4O6jAW"
      },
      "id": "1AHMQe4O6jAW",
      "execution_count": null,
      "outputs": []
    },
    {
      "cell_type": "code",
      "source": [
        "for col in numerical_cols:\n",
        "    plt.figure()\n",
        "    plt.hist(df[col])\n",
        "    plt.title(col)\n",
        "    plt.show()"
      ],
      "metadata": {
        "colab": {
          "base_uri": "https://localhost:8080/",
          "height": 905
        },
        "id": "k2KrKqxO6go9",
        "outputId": "338cb824-2e37-439e-8acc-59469f966b02"
      },
      "id": "k2KrKqxO6go9",
      "execution_count": null,
      "outputs": [
        {
          "output_type": "display_data",
          "data": {
            "text/plain": [
              "<Figure size 640x480 with 1 Axes>"
            ],
            "image/png": "[encoded data removed]"
          },
          "metadata": {}
        },
        {
          "output_type": "display_data",
          "data": {
            "text/plain": [
              "<Figure size 640x480 with 1 Axes>"
            ],
            "image/png": "[encoded data removed]"
          },
          "metadata": {}
        }
      ]
    },
    {
      "cell_type": "code",
      "source": [
        "categorical_cols = df.select_dtypes(include=['object']).columns"
      ],
      "metadata": {
        "id": "EJoe0Ryx6d8l"
      },
      "id": "EJoe0Ryx6d8l",
      "execution_count": null,
      "outputs": []
    },
    {
      "cell_type": "code",
      "source": [
        "for col in categorical_cols:\n",
        "    print(f\"Value counts for {col}:\")\n",
        "    print(df[col].value_counts())\n",
        "    print(\"\\n\")"
      ],
      "metadata": {
        "colab": {
          "base_uri": "https://localhost:8080/"
        },
        "collapsed": true,
        "id": "YtjekJzF6bCg",
        "outputId": "c945027c-e6f2-46a0-b146-bdf3c5beffd0"
      },
      "id": "YtjekJzF6bCg",
      "execution_count": null,
      "outputs": [
        {
          "output_type": "stream",
          "name": "stdout",
          "text": [
            "Value counts for School_Year:\n",
            "School_Year\n",
            "2015-2016    731\n",
            "2016-2017      1\n",
            "Name: count, dtype: int64\n",
            "\n",
            "\n",
            "Value counts for Run_Type:\n",
            "Run_Type\n",
            "Special Ed AM Run        596\n",
            "Special Ed PM Run        120\n",
            "General Ed PM Run          8\n",
            "Project Read PM Run        4\n",
            "General Ed AM Run          2\n",
            "General Ed Field Trip      1\n",
            "Project Read AM Run        1\n",
            "Name: count, dtype: int64\n",
            "\n",
            "\n",
            "Value counts for Bus_No:\n",
            "Bus_No\n",
            "1836       27\n",
            "1802       20\n",
            "1824       20\n",
            "016306     12\n",
            "1832       10\n",
            "           ..\n",
            "VN68134     1\n",
            "1607        1\n",
            "VN74640     1\n",
            "1231        1\n",
            "1451        1\n",
            "Name: count, Length: 427, dtype: int64\n",
            "\n",
            "\n",
            "Value counts for Route_Number:\n",
            "Route_Number\n",
            "L015    28\n",
            "L016    22\n",
            "L002    20\n",
            "X876    13\n",
            "L014    13\n",
            "        ..\n",
            "W798     1\n",
            "M036     1\n",
            "K169     1\n",
            "Q481     1\n",
            "M114     1\n",
            "Name: count, Length: 349, dtype: int64\n",
            "\n",
            "\n",
            "Value counts for Reason:\n",
            "Reason\n",
            "Heavy Traffic                  482\n",
            "Other                           92\n",
            "Accident                        70\n",
            "Weather Conditions              25\n",
            "Flat Tire                       18\n",
            "Mechanical Problem              14\n",
            "Won`t Start                     14\n",
            "Late return from Field Trip      9\n",
            "Delayed by School                8\n",
            "Name: count, dtype: int64\n",
            "\n",
            "\n",
            "Value counts for Schools_Serviced:\n",
            "Schools_Serviced\n",
            "18002          60\n",
            "20685          21\n",
            "12084          18\n",
            "75907          18\n",
            "08101          16\n",
            "               ..\n",
            "11514,11685     1\n",
            "26490,26806     1\n",
            "03003           1\n",
            "08062           1\n",
            "06716           1\n",
            "Name: count, Length: 315, dtype: int64\n",
            "\n",
            "\n",
            "Value counts for Occurred_On:\n",
            "Occurred_On\n",
            "03/10/2016 07:00:00 AM    3\n",
            "01/28/2016 06:51:00 AM    3\n",
            "02/09/2016 07:40:00 AM    3\n",
            "02/10/2016 07:55:00 AM    3\n",
            "02/01/2016 07:40:00 AM    2\n",
            "                         ..\n",
            "02/09/2016 06:31:00 AM    1\n",
            "02/09/2016 06:34:00 AM    1\n",
            "10/06/2015 03:47:00 PM    1\n",
            "02/09/2016 06:26:00 AM    1\n",
            "03/15/2016 08:05:00 AM    1\n",
            "Name: count, Length: 693, dtype: int64\n",
            "\n",
            "\n",
            "Value counts for Created_On:\n",
            "Created_On\n",
            "02/05/2016 07:30:00 AM    2\n",
            "03/02/2016 06:52:00 AM    2\n",
            "02/04/2016 08:11:00 AM    2\n",
            "03/14/2016 07:20:00 AM    2\n",
            "03/14/2016 07:18:00 AM    2\n",
            "                         ..\n",
            "02/09/2016 05:54:00 AM    1\n",
            "02/09/2016 06:13:00 AM    1\n",
            "02/09/2016 06:34:00 AM    1\n",
            "02/09/2016 06:37:00 AM    1\n",
            "03/15/2016 08:10:00 AM    1\n",
            "Name: count, Length: 708, dtype: int64\n",
            "\n",
            "\n",
            "Value counts for Boro:\n",
            "Boro\n",
            "Bronx              318\n",
            "Queens             132\n",
            "Manhattan          112\n",
            "Brooklyn            74\n",
            "Westchester         35\n",
            "Nassau County       30\n",
            "All Boroughs        12\n",
            "Staten Island       11\n",
            "Connecticut          5\n",
            "New Jersey           2\n",
            "Rockland County      1\n",
            "Name: count, dtype: int64\n",
            "\n",
            "\n",
            "Value counts for Bus_Company_Name:\n",
            "Bus_Company_Name\n",
            "VAN TRANS LLC (B2192)        209\n",
            "HOYT TRANSPORTATION CORP.    158\n",
            "B & F SKILLED INC.(B2192)    137\n",
            "FIRST STEPS TRANSP INC. (     52\n",
            "THOMAS BUSES, INC. (B2321     36\n",
            "NEW DAWN TRANSIT, LLC (B2     34\n",
            "G.V.C. LTD. (B2192)           19\n",
            "BORO TRANSIT, INC.            13\n",
            "MONTAUK STUDENT TRANS, IN     12\n",
            "TWENTY FIRST AV TRANSP (B     12\n",
            "JOFAZ TRANSPORTATION INC.      7\n",
            "SAFE COACH INC. (B2321)        5\n",
            "MAR-CAN TRANSPORT CO. INC      4\n",
            "SNT BUS INC                    3\n",
            "THOMAS BUSES INC (B2192)       3\n",
            "CAREFUL BUS                    3\n",
            "CONSOLIDATED BUS TRANS. I      3\n",
            "ALL COUNTY BUS LLC (B2321      3\n",
            "ALL AMERICAN SCHOOL BUS C      2\n",
            "ACME BUS CORP. (B2321)         2\n",
            "LEESEL TRANSP CORP (B2192      2\n",
            "PIONEER TRANSPORTATION CO      2\n",
            "L & M BUS CORP. (B2321)        1\n",
            "L & M BUS CORP. (B2192)        1\n",
            "DON THOMAS BUSES, INC. (B      1\n",
            "CAREFUL BUS SERVICE INC (      1\n",
            "R & C TRANSIT, INC. (B232      1\n",
            "MUTUAL BUS CORP. (B2192)       1\n",
            "PRIDE TRANSPORTATION (SCH      1\n",
            "GRANDPA`S BUS CO., INC.        1\n",
            "BOBBY`S BUS CO. INC.           1\n",
            "Y & M TRANSIT CORP (B2192      1\n",
            "MUTUAL BUS CORP. (B2321)       1\n",
            "Name: count, dtype: int64\n",
            "\n",
            "\n",
            "Value counts for How_Long_Delayed:\n",
            "How_Long_Delayed\n",
            "15 mins      115\n",
            "20 mins       88\n",
            "10 mins       43\n",
            "20MNS         39\n",
            "25 mins       19\n",
            "            ... \n",
            "40mins         1\n",
            "30 minute      1\n",
            "25 minute      1\n",
            "15-20 MIN      1\n",
            "25min          1\n",
            "Name: count, Length: 127, dtype: int64\n",
            "\n",
            "\n",
            "Value counts for Has_Contractor_Notified_Schools:\n",
            "Has_Contractor_Notified_Schools\n",
            "Yes    712\n",
            "No      20\n",
            "Name: count, dtype: int64\n",
            "\n",
            "\n",
            "Value counts for Has_Contractor_Notified_Parents:\n",
            "Has_Contractor_Notified_Parents\n",
            "Yes    696\n",
            "No      36\n",
            "Name: count, dtype: int64\n",
            "\n",
            "\n",
            "Value counts for Have_You_Alerted_OPT:\n",
            "Have_You_Alerted_OPT\n",
            "Yes    708\n",
            "No      24\n",
            "Name: count, dtype: int64\n",
            "\n",
            "\n",
            "Value counts for Informed_On:\n",
            "Informed_On\n",
            "02/05/2016 07:30:00 AM    2\n",
            "03/02/2016 06:52:00 AM    2\n",
            "02/04/2016 08:11:00 AM    2\n",
            "03/14/2016 07:20:00 AM    2\n",
            "03/14/2016 07:18:00 AM    2\n",
            "                         ..\n",
            "02/09/2016 05:54:00 AM    1\n",
            "02/09/2016 06:13:00 AM    1\n",
            "02/09/2016 06:34:00 AM    1\n",
            "02/09/2016 06:37:00 AM    1\n",
            "03/15/2016 08:10:00 AM    1\n",
            "Name: count, Length: 708, dtype: int64\n",
            "\n",
            "\n",
            "Value counts for Incident_Number:\n",
            "Incident_Number\n",
            "2853381.0    6\n",
            "2836706      6\n",
            "2836730      6\n",
            "2851358.0    6\n",
            "2852020.0    5\n",
            "            ..\n",
            "2837415      1\n",
            "2837627      1\n",
            "2837690      1\n",
            "2837700      1\n",
            "2857773.0    1\n",
            "Name: count, Length: 679, dtype: int64\n",
            "\n",
            "\n",
            "Value counts for Last_Updated_On:\n",
            "Last_Updated_On\n",
            "10/28/2015 06:44:16 AM    1\n",
            "03/01/2016 07:30:54 AM    1\n",
            "03/01/2016 07:35:58 AM    1\n",
            "03/01/2016 07:36:44 AM    1\n",
            "03/01/2016 07:39:56 AM    1\n",
            "                         ..\n",
            "02/05/2016 08:50:56 AM    1\n",
            "02/05/2016 02:47:53 PM    1\n",
            "02/08/2016 07:17:28 AM    1\n",
            "02/08/2016 07:17:58 AM    1\n",
            "03/15/2016 08:22:37 AM    1\n",
            "Name: count, Length: 732, dtype: int64\n",
            "\n",
            "\n",
            "Value counts for Breakdown_or_Running_Late:\n",
            "Breakdown_or_Running_Late\n",
            "Running Late    732\n",
            "Name: count, dtype: int64\n",
            "\n",
            "\n",
            "Value counts for School_Age_or_PreK:\n",
            "School_Age_or_PreK\n",
            "School-Age    732\n",
            "Name: count, dtype: int64\n",
            "\n",
            "\n"
          ]
        }
      ]
    },
    {
      "cell_type": "code",
      "source": [
        "corr_matrix = df.corr(numeric_only=True)\n",
        "sns.heatmap(corr_matrix, annot=True)\n",
        "plt.show()"
      ],
      "metadata": {
        "colab": {
          "base_uri": "https://localhost:8080/",
          "height": 439
        },
        "id": "ulV_nGlD6WaH",
        "outputId": "7051b33a-3cd0-474f-f642-fe390ca219e3"
      },
      "id": "ulV_nGlD6WaH",
      "execution_count": null,
      "outputs": [
        {
          "output_type": "display_data",
          "data": {
            "text/plain": [
              "<Figure size 640x480 with 2 Axes>"
            ],
            "image/png": "[encoded data removed]"
          },
          "metadata": {}
        }
      ]
    },
    {
      "cell_type": "code",
      "source": [
        "for col in numerical_cols:\n",
        "    plt.figure()\n",
        "    sns.boxplot(df[col])\n",
        "    plt.title(col)\n",
        "    plt.show()"
      ],
      "metadata": {
        "colab": {
          "base_uri": "https://localhost:8080/",
          "height": 849
        },
        "id": "y2EqQTcm6K6d",
        "outputId": "6d24acfc-b680-4941-b8fd-6bdd2440a012"
      },
      "id": "y2EqQTcm6K6d",
      "execution_count": null,
      "outputs": [
        {
          "output_type": "display_data",
          "data": {
            "text/plain": [
              "<Figure size 640x480 with 1 Axes>"
            ],
            "image/png": "[encoded data removed]"
          },
          "metadata": {}
        },
        {
          "output_type": "display_data",
          "data": {
            "text/plain": [
              "<Figure size 640x480 with 1 Axes>"
            ],
            "image/png": "[encoded data removed]"
          },
          "metadata": {}
        }
      ]
    },
    {
      "cell_type": "markdown",
      "id": "1a559e40",
      "metadata": {
        "id": "1a559e40"
      },
      "source": [
        "## Data Preprocessing\n",
        "This could include:\n",
        "\n",
        "* **Handle Missing Values**\n",
        "    * Impute missing values or drop them.\n",
        "\n",
        "* **Encode Categorical Variables**\n",
        "    * One-hot encoding\n",
        "    * Label encoding\n",
        "\n",
        "* **Scale and Normalize Data**\n",
        "    * Standardization (Z-score)\n",
        "    * Min-Max scaling\n",
        "\n",
        "* **Feature Engineering**\n",
        "    * Create new features\n",
        "    * Feature selection\n",
        "\n",
        "* **Handle Imbalanced Data**\n",
        "    * Oversampling\n",
        "    * Undersampling\n",
        "\n",
        "* **Handle Outliers**\n",
        "    * Remove outliers\n",
        "    * Transform outliers\n",
        "\n",
        "* **Remove Duplicates**\n",
        "    * Remove redundant or duplicate data\n",
        "\n",
        "\n",
        "And add more as needed!\n",
        "\n",
        "Please treat these as suggestions. Feel free to use your judgment for the rest."
      ]
    },
    {
      "cell_type": "markdown",
      "source": [
        "drop missing value"
      ],
      "metadata": {
        "id": "qf6Yi_J3GwrL"
      },
      "id": "qf6Yi_J3GwrL"
    },
    {
      "cell_type": "code",
      "execution_count": null,
      "id": "e6867a7c",
      "metadata": {
        "id": "e6867a7c"
      },
      "outputs": [],
      "source": [
        "df = df.dropna()"
      ]
    },
    {
      "cell_type": "markdown",
      "source": [
        "Encode Categorical Variables"
      ],
      "metadata": {
        "id": "-Y684DS79tK_"
      },
      "id": "-Y684DS79tK_"
    },
    {
      "cell_type": "markdown",
      "source": [
        "One-hot encoding"
      ],
      "metadata": {
        "id": "kUEf2bcgGqLN"
      },
      "id": "kUEf2bcgGqLN"
    },
    {
      "cell_type": "code",
      "source": [
        "one_hot_encoded_data = pd.get_dummies(df, columns = ['Reason','Route_Number','How_Long_Delayed'])\n",
        "print(one_hot_encoded_data)"
      ],
      "metadata": {
        "colab": {
          "base_uri": "https://localhost:8080/"
        },
        "collapsed": true,
        "id": "hus8EnVM9qo5",
        "outputId": "eb003dd7-a93d-4528-fa88-3237a05e0308"
      },
      "id": "hus8EnVM9qo5",
      "execution_count": null,
      "outputs": [
        {
          "output_type": "stream",
          "name": "stdout",
          "text": [
            "      School_Year  Busbreakdown_ID           Run_Type  Bus_No  \\\n",
            "1375    2015-2016          1225377  Special Ed AM Run    1296   \n",
            "1842    2015-2016          1216474  Special Ed PM Run   19340   \n",
            "2587    2015-2016          1226096  Special Ed AM Run  GC0085   \n",
            "3153    2015-2016          1226288  General Ed AM Run    5301   \n",
            "3367    2015-2016          1213115  Special Ed AM Run  016303   \n",
            "...           ...              ...                ...     ...   \n",
            "36083   2015-2016          1256118  Special Ed AM Run    1314   \n",
            "36102   2015-2016          1256140  Special Ed AM Run    1520   \n",
            "36116   2015-2016          1256158  Special Ed AM Run    1427   \n",
            "36122   2015-2016          1256165  Special Ed AM Run    1451   \n",
            "36124   2015-2016          1256167  Special Ed AM Run    1640   \n",
            "\n",
            "      Schools_Serviced             Occurred_On              Created_On  \\\n",
            "1375             25154  10/28/2015 06:25:00 AM  10/28/2015 06:31:00 AM   \n",
            "1842             02347  09/21/2015 03:15:00 PM  09/21/2015 03:50:00 PM   \n",
            "2587             07223  10/29/2015 07:39:00 AM  10/29/2015 08:05:00 AM   \n",
            "3153       13508,17316  10/30/2015 06:35:00 AM  10/30/2015 06:44:00 AM   \n",
            "3367             09462  09/09/2015 07:19:00 AM  09/09/2015 07:32:00 AM   \n",
            "...                ...                     ...                     ...   \n",
            "36083            26806  03/15/2016 07:38:00 AM  03/15/2016 07:45:00 AM   \n",
            "36102            03417  03/15/2016 07:51:00 AM  03/15/2016 07:53:00 AM   \n",
            "36116            02568  03/15/2016 08:03:00 AM  03/15/2016 08:04:00 AM   \n",
            "36122            75437  03/15/2016 08:08:00 AM  03/15/2016 08:09:00 AM   \n",
            "36124            28160  03/15/2016 08:05:00 AM  03/15/2016 08:10:00 AM   \n",
            "\n",
            "            Boro           Bus_Company_Name  Number_Of_Students_On_The_Bus  \\\n",
            "1375   Manhattan     ACME BUS CORP. (B2321)                              0   \n",
            "1842   Manhattan         BORO TRANSIT, INC.                              8   \n",
            "2587       Bronx        G.V.C. LTD. (B2192)                              5   \n",
            "3153    Brooklyn  JOFAZ TRANSPORTATION INC.                              8   \n",
            "3367       Bronx  HOYT TRANSPORTATION CORP.                              1   \n",
            "...          ...                        ...                            ...   \n",
            "36083     Queens  FIRST STEPS TRANSP INC. (                              2   \n",
            "36102  Manhattan  FIRST STEPS TRANSP INC. (                              4   \n",
            "36116  Manhattan  THOMAS BUSES, INC. (B2321                              2   \n",
            "36122  Manhattan   THOMAS BUSES INC (B2192)                              2   \n",
            "36124     Queens  FIRST STEPS TRANSP INC. (                              3   \n",
            "\n",
            "       ... How_Long_Delayed_50mins How_Long_Delayed_60  \\\n",
            "1375   ...                   False               False   \n",
            "1842   ...                   False               False   \n",
            "2587   ...                   False               False   \n",
            "3153   ...                   False               False   \n",
            "3367   ...                   False               False   \n",
            "...    ...                     ...                 ...   \n",
            "36083  ...                   False               False   \n",
            "36102  ...                   False               False   \n",
            "36116  ...                   False               False   \n",
            "36122  ...                   False               False   \n",
            "36124  ...                   False               False   \n",
            "\n",
            "      How_Long_Delayed_60 MIN How_Long_Delayed_60 minutes  \\\n",
            "1375                    False                       False   \n",
            "1842                    False                       False   \n",
            "2587                    False                       False   \n",
            "3153                    False                       False   \n",
            "3367                    False                       False   \n",
            "...                       ...                         ...   \n",
            "36083                   False                       False   \n",
            "36102                   False                       False   \n",
            "36116                   False                       False   \n",
            "36122                   False                       False   \n",
            "36124                   False                       False   \n",
            "\n",
            "      How_Long_Delayed_60MIN How_Long_Delayed_60mn How_Long_Delayed_90 MIN  \\\n",
            "1375                   False                 False                   False   \n",
            "1842                   False                 False                   False   \n",
            "2587                   False                 False                   False   \n",
            "3153                   False                 False                   False   \n",
            "3367                   False                 False                   False   \n",
            "...                      ...                   ...                     ...   \n",
            "36083                  False                 False                   False   \n",
            "36102                  False                 False                   False   \n",
            "36116                  False                 False                   False   \n",
            "36122                  False                 False                   False   \n",
            "36124                  False                 False                   False   \n",
            "\n",
            "      How_Long_Delayed_?  How_Long_Delayed_??????  How_Long_Delayed_unknown  \n",
            "1375               False                    False                     False  \n",
            "1842               False                    False                     False  \n",
            "2587               False                    False                     False  \n",
            "3153               False                     True                     False  \n",
            "3367               False                    False                     False  \n",
            "...                  ...                      ...                       ...  \n",
            "36083              False                    False                     False  \n",
            "36102              False                    False                     False  \n",
            "36116              False                    False                     False  \n",
            "36122              False                    False                     False  \n",
            "36124              False                    False                     False  \n",
            "\n",
            "[732 rows x 503 columns]\n"
          ]
        }
      ]
    },
    {
      "cell_type": "markdown",
      "source": [
        "Label encoding"
      ],
      "metadata": {
        "id": "CssRDAw4GtAN"
      },
      "id": "CssRDAw4GtAN"
    },
    {
      "cell_type": "code",
      "source": [
        "le = LabelEncoder()\n",
        "le.fit([\"Boro\", \"Has_Contractor_Notified_Schools\", \"Has_Contractor_Notified_Parents\", \"Have_You_Alerted_OPT\",'Breakdown_or_Running_Late','School_Age_or_PreK'])"
      ],
      "metadata": {
        "colab": {
          "base_uri": "https://localhost:8080/",
          "height": 75
        },
        "id": "kdOwa1UG-wi7",
        "outputId": "b22f2d92-0a11-4604-e8d6-524abaedeee9"
      },
      "id": "kdOwa1UG-wi7",
      "execution_count": null,
      "outputs": [
        {
          "output_type": "execute_result",
          "data": {
            "text/plain": [
              "LabelEncoder()"
            ],
            "text/html": [
              "<style>#sk-container-id-1 {color: black;}#sk-container-id-1 pre{padding: 0;}#sk-container-id-1 div.sk-toggleable {background-color: white;}#sk-container-id-1 label.sk-toggleable__label {cursor: pointer;display: block;width: 100%;margin-bottom: 0;padding: 0.3em;box-sizing: border-box;text-align: center;}#sk-container-id-1 label.sk-toggleable__label-arrow:before {content: \"▸\";float: left;margin-right: 0.25em;color: #696969;}#sk-container-id-1 label.sk-toggleable__label-arrow:hover:before {color: black;}#sk-container-id-1 div.sk-estimator:hover label.sk-toggleable__label-arrow:before {color: black;}#sk-container-id-1 div.sk-toggleable__content {max-height: 0;max-width: 0;overflow: hidden;text-align: left;background-color: #f0f8ff;}#sk-container-id-1 div.sk-toggleable__content pre {margin: 0.2em;color: black;border-radius: 0.25em;background-color: #f0f8ff;}#sk-container-id-1 input.sk-toggleable__control:checked~div.sk-toggleable__content {max-height: 200px;max-width: 100%;overflow: auto;}#sk-container-id-1 input.sk-toggleable__control:checked~label.sk-toggleable__label-arrow:before {content: \"▾\";}#sk-container-id-1 div.sk-estimator input.sk-toggleable__control:checked~label.sk-toggleable__label {background-color: #d4ebff;}#sk-container-id-1 div.sk-label input.sk-toggleable__control:checked~label.sk-toggleable__label {background-color: #d4ebff;}#sk-container-id-1 input.sk-hidden--visually {border: 0;clip: rect(1px 1px 1px 1px);clip: rect(1px, 1px, 1px, 1px);height: 1px;margin: -1px;overflow: hidden;padding: 0;position: absolute;width: 1px;}#sk-container-id-1 div.sk-estimator {font-family: monospace;background-color: #f0f8ff;border: 1px dotted black;border-radius: 0.25em;box-sizing: border-box;margin-bottom: 0.5em;}#sk-container-id-1 div.sk-estimator:hover {background-color: #d4ebff;}#sk-container-id-1 div.sk-parallel-item::after {content: \"\";width: 100%;border-bottom: 1px solid gray;flex-grow: 1;}#sk-container-id-1 div.sk-label:hover label.sk-toggleable__label {background-color: #d4ebff;}#sk-container-id-1 div.sk-serial::before {content: \"\";position: absolute;border-left: 1px solid gray;box-sizing: border-box;top: 0;bottom: 0;left: 50%;z-index: 0;}#sk-container-id-1 div.sk-serial {display: flex;flex-direction: column;align-items: center;background-color: white;padding-right: 0.2em;padding-left: 0.2em;position: relative;}#sk-container-id-1 div.sk-item {position: relative;z-index: 1;}#sk-container-id-1 div.sk-parallel {display: flex;align-items: stretch;justify-content: center;background-color: white;position: relative;}#sk-container-id-1 div.sk-item::before, #sk-container-id-1 div.sk-parallel-item::before {content: \"\";position: absolute;border-left: 1px solid gray;box-sizing: border-box;top: 0;bottom: 0;left: 50%;z-index: -1;}#sk-container-id-1 div.sk-parallel-item {display: flex;flex-direction: column;z-index: 1;position: relative;background-color: white;}#sk-container-id-1 div.sk-parallel-item:first-child::after {align-self: flex-end;width: 50%;}#sk-container-id-1 div.sk-parallel-item:last-child::after {align-self: flex-start;width: 50%;}#sk-container-id-1 div.sk-parallel-item:only-child::after {width: 0;}#sk-container-id-1 div.sk-dashed-wrapped {border: 1px dashed gray;margin: 0 0.4em 0.5em 0.4em;box-sizing: border-box;padding-bottom: 0.4em;background-color: white;}#sk-container-id-1 div.sk-label label {font-family: monospace;font-weight: bold;display: inline-block;line-height: 1.2em;}#sk-container-id-1 div.sk-label-container {text-align: center;}#sk-container-id-1 div.sk-container {/* jupyter's `normalize.less` sets `[hidden] { display: none; }` but bootstrap.min.css set `[hidden] { display: none !important; }` so we also need the `!important` here to be able to override the default hidden behavior on the sphinx rendered scikit-learn.org. See: https://github.com/scikit-learn/scikit-learn/issues/21755 */display: inline-block !important;position: relative;}#sk-container-id-1 div.sk-text-repr-fallback {display: none;}</style><div id=\"sk-container-id-1\" class=\"sk-top-container\"><div class=\"sk-text-repr-fallback\"><pre>LabelEncoder()</pre><b>In a Jupyter environment, please rerun this cell to show the HTML representation or trust the notebook. <br />On GitHub, the HTML representation is unable to render, please try loading this page with nbviewer.org.</b></div><div class=\"sk-container\" hidden><div class=\"sk-item\"><div class=\"sk-estimator sk-toggleable\"><input class=\"sk-toggleable__control sk-hidden--visually\" id=\"sk-estimator-id-1\" type=\"checkbox\" checked><label for=\"sk-estimator-id-1\" class=\"sk-toggleable__label sk-toggleable__label-arrow\">LabelEncoder</label><div class=\"sk-toggleable__content\"><pre>LabelEncoder()</pre></div></div></div></div></div>"
            ]
          },
          "metadata": {},
          "execution_count": 22
        }
      ]
    },
    {
      "cell_type": "markdown",
      "source": [
        "Scale and Normalize Data"
      ],
      "metadata": {
        "id": "7XxJxWoDGjr4"
      },
      "id": "7XxJxWoDGjr4"
    },
    {
      "cell_type": "code",
      "source": [
        "scaler = StandardScaler()\n",
        "numerical_cols = ['Number_Of_Students_On_The_Bus']\n",
        "df[numerical_cols] = scaler.fit_transform(df[numerical_cols])"
      ],
      "metadata": {
        "id": "qgu478kOBP8V"
      },
      "id": "qgu478kOBP8V",
      "execution_count": null,
      "outputs": []
    },
    {
      "cell_type": "code",
      "source": [
        "scaler = MinMaxScaler()\n",
        "df[numerical_cols] = scaler.fit_transform(df[numerical_cols])"
      ],
      "metadata": {
        "id": "qWAdmAKjBe30"
      },
      "id": "qWAdmAKjBe30",
      "execution_count": null,
      "outputs": []
    },
    {
      "cell_type": "markdown",
      "source": [
        "Feature Engineering"
      ],
      "metadata": {
        "id": "R0ldH9uCGfXz"
      },
      "id": "R0ldH9uCGfXz"
    },
    {
      "cell_type": "code",
      "source": [
        "# Copy the number of minutes from the text in the ['How_Long_Delayed'] column+convert them to integers,\n",
        "# handling cases where the \"minutes\" bonus may not have a value of 0\n",
        "df['Total_Delay_Minutes'] = df['How_Long_Delayed'].apply(lambda x: int(x.split('minutes')[0]) if 'minutes' in x else 0)"
      ],
      "metadata": {
        "id": "tMLoSh_OB0yJ"
      },
      "id": "tMLoSh_OB0yJ",
      "execution_count": null,
      "outputs": []
    },
    {
      "cell_type": "markdown",
      "source": [
        "Handle Imbalanced Data"
      ],
      "metadata": {
        "id": "jLnmOXgfFjHV"
      },
      "id": "jLnmOXgfFjHV"
    },
    {
      "cell_type": "code",
      "source": [
        "print(y.unique())"
      ],
      "metadata": {
        "colab": {
          "base_uri": "https://localhost:8080/"
        },
        "id": "W9lvl9pPDx4x",
        "outputId": "051e863b-02db-40d7-c5a3-d7c8ef3e34ca"
      },
      "id": "W9lvl9pPDx4x",
      "execution_count": null,
      "outputs": [
        {
          "output_type": "stream",
          "name": "stdout",
          "text": [
            "['Running Late']\n"
          ]
        }
      ]
    },
    {
      "cell_type": "markdown",
      "source": [
        "Handle Outliers"
      ],
      "metadata": {
        "id": "TavtTNKyFIwu"
      },
      "id": "TavtTNKyFIwu"
    },
    {
      "cell_type": "markdown",
      "source": [
        "Remove Outliers from ['Number_Of_Students_On_The_Bus'} and i drop ['Busbreakdown_ID'] becuse i dont needed"
      ],
      "metadata": {
        "id": "0tNPJ39lFKgW"
      },
      "id": "0tNPJ39lFKgW"
    },
    {
      "cell_type": "markdown",
      "source": [
        "بناء على الرسمة الي فوق باستخدام boxplot"
      ],
      "metadata": {
        "id": "GT5FCyy9HW4X"
      },
      "id": "GT5FCyy9HW4X"
    },
    {
      "cell_type": "code",
      "source": [
        "Q1 = df['Number_Of_Students_On_The_Bus'].quantile(0.25)\n",
        "Q3 = df['Number_Of_Students_On_The_Bus'].quantile(0.75)\n",
        "IQR = Q3 - Q1\n",
        "lower_bound = Q1 - 1.5 * IQR\n",
        "upper_bound = Q3 + 1.5 * IQR\n",
        "\n",
        "df_no_outliers = df[(df['Number_Of_Students_On_The_Bus'] >= lower_bound) & (df['Number_Of_Students_On_The_Bus'] <= upper_bound)]\n",
        "df['Number_Of_Students_On_The_Bus'] = np.clip(df['Number_Of_Students_On_The_Bus'], lower_bound, upper_bound)\n"
      ],
      "metadata": {
        "id": "pwlJlr6OETTl"
      },
      "id": "pwlJlr6OETTl",
      "execution_count": null,
      "outputs": []
    },
    {
      "cell_type": "code",
      "source": [
        "df = df.drop('Busbreakdown_ID', axis=1)"
      ],
      "metadata": {
        "id": "kRocKnMREgja"
      },
      "id": "kRocKnMREgja",
      "execution_count": null,
      "outputs": []
    },
    {
      "cell_type": "markdown",
      "source": [
        "Remove Duplicates\n"
      ],
      "metadata": {
        "id": "O6UT3aRIFELU"
      },
      "id": "O6UT3aRIFELU"
    },
    {
      "cell_type": "code",
      "source": [
        "df = df.drop_duplicates()"
      ],
      "metadata": {
        "id": "7Sel78yCEsK-"
      },
      "id": "7Sel78yCEsK-",
      "execution_count": null,
      "outputs": []
    },
    {
      "cell_type": "markdown",
      "id": "bc887660",
      "metadata": {
        "id": "bc887660"
      },
      "source": [
        "## Split the Dataset\n",
        "Next, split the dataset into training, validation, and testing sets."
      ]
    },
    {
      "cell_type": "markdown",
      "source": [
        "assume Breakdown_or_Running_Late as (Target Column)\n"
      ],
      "metadata": {
        "id": "ttG9MEh9Hl4Q"
      },
      "id": "ttG9MEh9Hl4Q"
    },
    {
      "cell_type": "code",
      "source": [
        "X= df.drop('Breakdown_or_Running_Late', axis=1)\n",
        "y = df['Breakdown_or_Running_Late']"
      ],
      "metadata": {
        "id": "WDRkqwIZHBNT"
      },
      "id": "WDRkqwIZHBNT",
      "execution_count": null,
      "outputs": []
    },
    {
      "cell_type": "code",
      "source": [
        "X_train, X_test, y_train, y_test = train_test_split(X, y, test_size=0.2, random_state=42)\n",
        "X_train, X_valid, y_train, y_valid = train_test_split(X_train, y_train, test_size=0.2, random_state=42)\n",
        "X_train = X_train.apply(pd.to_numeric, errors='coerce')\n",
        "X_valid = X_valid.apply(pd.to_numeric, errors='coerce')"
      ],
      "metadata": {
        "id": "XQ66IlQRHznG"
      },
      "id": "XQ66IlQRHznG",
      "execution_count": 66,
      "outputs": []
    },
    {
      "cell_type": "markdown",
      "id": "7119b7d7",
      "metadata": {
        "id": "7119b7d7"
      },
      "source": [
        "## Building the ANN Model\n",
        "In this section, define the architecture of the ANN by specifying the number of layers, neurons, and activation functions."
      ]
    },
    {
      "cell_type": "code",
      "source": [
        "model = Sequential()\n",
        "model.add(Dense(units=6, input_dim=X_train.shape[1], kernel_initializer='uniform',activation='relu'))\n",
        "model.add(Dense(units=6, activation='relu'))\n",
        "model.add(Dense(units=6, activation='relu'))\n",
        "model.add(Dense(units=1, activation='sigmoid'))"
      ],
      "metadata": {
        "id": "qFimvxquI2zK",
        "colab": {
          "base_uri": "https://localhost:8080/"
        },
        "outputId": "3ad6401e-7efb-4914-bde2-3a0ad53ed2a2"
      },
      "id": "qFimvxquI2zK",
      "execution_count": 67,
      "outputs": [
        {
          "output_type": "stream",
          "name": "stderr",
          "text": [
            "/usr/local/lib/python3.10/dist-packages/keras/src/layers/core/dense.py:87: UserWarning: Do not pass an `input_shape`/`input_dim` argument to a layer. When using Sequential models, prefer using an `Input(shape)` object as the first layer in the model instead.\n",
            "  super().__init__(activity_regularizer=activity_regularizer, **kwargs)\n"
          ]
        }
      ]
    },
    {
      "cell_type": "markdown",
      "id": "ac5e52e1",
      "metadata": {
        "id": "ac5e52e1"
      },
      "source": [
        "## Compile the Model\n",
        "Compile the ANN model by defining the optimizer, loss function, and evaluation metrics."
      ]
    },
    {
      "cell_type": "code",
      "execution_count": 68,
      "id": "ab363be3",
      "metadata": {
        "id": "ab363be3"
      },
      "outputs": [],
      "source": [
        "model.compile(optimizer='adam', loss='binary_crossentropy', metrics=['accuracy'])"
      ]
    },
    {
      "cell_type": "markdown",
      "id": "e9a72223",
      "metadata": {
        "id": "e9a72223"
      },
      "source": [
        "## Training the Model\n",
        "Train the ANN model using the training data."
      ]
    },
    {
      "cell_type": "code",
      "source": [
        "# convert to numeric valu y_valid and y_train\n",
        "y_train = y_train.replace({'Running Late': 1, 'On Time': 0})\n",
        "y_valid = y_valid.replace({'Running Late': 1, 'On Time': 0})\n",
        "X_train = X_train.fillna(0)\n",
        "X_valid = X_valid.fillna(0)\n",
        "\n",
        "history = model.fit(X_train, y_train, epochs=10, batch_size=32, validation_data=(X_valid, y_valid))"
      ],
      "metadata": {
        "colab": {
          "base_uri": "https://localhost:8080/"
        },
        "id": "uej1vUoUhCjL",
        "outputId": "e46e0691-6a9f-4ebd-de73-7e3d80b37341"
      },
      "id": "uej1vUoUhCjL",
      "execution_count": 70,
      "outputs": [
        {
          "output_type": "stream",
          "name": "stdout",
          "text": [
            "Epoch 1/10\n",
            "\u001b[1m15/15\u001b[0m \u001b[32m━━━━━━━━━━━━━━━━━━━━\u001b[0m\u001b[37m\u001b[0m \u001b[1m0s\u001b[0m 8ms/step - accuracy: 1.0000 - loss: 0.6359 - val_accuracy: 1.0000 - val_loss: 0.6320\n",
            "Epoch 2/10\n",
            "\u001b[1m15/15\u001b[0m \u001b[32m━━━━━━━━━━━━━━━━━━━━\u001b[0m\u001b[37m\u001b[0m \u001b[1m0s\u001b[0m 4ms/step - accuracy: 1.0000 - loss: 0.6308 - val_accuracy: 1.0000 - val_loss: 0.6269\n",
            "Epoch 3/10\n",
            "\u001b[1m15/15\u001b[0m \u001b[32m━━━━━━━━━━━━━━━━━━━━\u001b[0m\u001b[37m\u001b[0m \u001b[1m0s\u001b[0m 4ms/step - accuracy: 1.0000 - loss: 0.6256 - val_accuracy: 1.0000 - val_loss: 0.6217\n",
            "Epoch 4/10\n",
            "\u001b[1m15/15\u001b[0m \u001b[32m━━━━━━━━━━━━━━━━━━━━\u001b[0m\u001b[37m\u001b[0m \u001b[1m0s\u001b[0m 5ms/step - accuracy: 1.0000 - loss: 0.6204 - val_accuracy: 1.0000 - val_loss: 0.6165\n",
            "Epoch 5/10\n",
            "\u001b[1m15/15\u001b[0m \u001b[32m━━━━━━━━━━━━━━━━━━━━\u001b[0m\u001b[37m\u001b[0m \u001b[1m0s\u001b[0m 4ms/step - accuracy: 1.0000 - loss: 0.6152 - val_accuracy: 1.0000 - val_loss: 0.6113\n",
            "Epoch 6/10\n",
            "\u001b[1m15/15\u001b[0m \u001b[32m━━━━━━━━━━━━━━━━━━━━\u001b[0m\u001b[37m\u001b[0m \u001b[1m0s\u001b[0m 4ms/step - accuracy: 1.0000 - loss: 0.6100 - val_accuracy: 1.0000 - val_loss: 0.6060\n",
            "Epoch 7/10\n",
            "\u001b[1m15/15\u001b[0m \u001b[32m━━━━━━━━━━━━━━━━━━━━\u001b[0m\u001b[37m\u001b[0m \u001b[1m0s\u001b[0m 4ms/step - accuracy: 1.0000 - loss: 0.6047 - val_accuracy: 1.0000 - val_loss: 0.6008\n",
            "Epoch 8/10\n",
            "\u001b[1m15/15\u001b[0m \u001b[32m━━━━━━━━━━━━━━━━━━━━\u001b[0m\u001b[37m\u001b[0m \u001b[1m0s\u001b[0m 5ms/step - accuracy: 1.0000 - loss: 0.5995 - val_accuracy: 1.0000 - val_loss: 0.5955\n",
            "Epoch 9/10\n",
            "\u001b[1m15/15\u001b[0m \u001b[32m━━━━━━━━━━━━━━━━━━━━\u001b[0m\u001b[37m\u001b[0m \u001b[1m0s\u001b[0m 6ms/step - accuracy: 1.0000 - loss: 0.5942 - val_accuracy: 1.0000 - val_loss: 0.5902\n",
            "Epoch 10/10\n",
            "\u001b[1m15/15\u001b[0m \u001b[32m━━━━━━━━━━━━━━━━━━━━\u001b[0m\u001b[37m\u001b[0m \u001b[1m0s\u001b[0m 5ms/step - accuracy: 1.0000 - loss: 0.5889 - val_accuracy: 1.0000 - val_loss: 0.5850\n"
          ]
        }
      ]
    },
    {
      "cell_type": "markdown",
      "id": "20ce9661",
      "metadata": {
        "id": "20ce9661"
      },
      "source": [
        "## Evaluate the Model\n",
        "Evaluate the performance of the model on the test set."
      ]
    },
    {
      "cell_type": "code",
      "source": [
        "model.evaluate(valid_Data)"
      ],
      "metadata": {
        "id": "QdQmvBcDtqQf"
      },
      "id": "QdQmvBcDtqQf",
      "execution_count": null,
      "outputs": []
    },
    {
      "cell_type": "markdown",
      "id": "08e9bc87",
      "metadata": {
        "id": "08e9bc87"
      },
      "source": [
        "## Make Predictions\n",
        "Use the trained model to make predictions on new or unseen data."
      ]
    },
    {
      "cell_type": "markdown",
      "id": "94942463",
      "metadata": {
        "id": "94942463"
      },
      "source": [
        "## Model Performance Visualization\n",
        "Visualize the performance metrics such as accuracy and loss over the epochs."
      ]
    },
    {
      "cell_type": "code",
      "execution_count": null,
      "id": "b1955952",
      "metadata": {
        "id": "b1955952"
      },
      "outputs": [],
      "source": []
    },
    {
      "cell_type": "markdown",
      "id": "1d32965f",
      "metadata": {
        "id": "1d32965f"
      },
      "source": [
        "## Save the Model\n",
        "Save the trained model for submission."
      ]
    },
    {
      "cell_type": "code",
      "execution_count": null,
      "id": "a4e1f00e",
      "metadata": {
        "id": "a4e1f00e"
      },
      "outputs": [],
      "source": [
        "model.save('my_model.h5')"
      ]
    },
    {
      "cell_type": "markdown",
      "id": "9ebe9b8d",
      "metadata": {
        "id": "9ebe9b8d"
      },
      "source": [
        "## Project Questions:\n",
        "\n",
        "1. **Data Preprocessing**: Explain why you chose your specific data preprocessing techniques (e.g., normalization, encoding). How did these techniques help prepare the data for training the model?\n",
        "2. **Model Architecture**: Describe the reasoning behind your model’s architecture (e.g., the number of layers, type of layers, number of neurons, and activation functions). Why did you believe this architecture was appropriate for the problem at hand?\n",
        "3. **Training Process**: Discuss why you chose your batch size, number of epochs, and optimizer. How did these choices affect the training process? Did you experiment with different values, and what were the outcomes?\n",
        "4. **Loss Function and Metrics**: Why did you choose the specific loss function and evaluation metrics? How do they align with the objective of the task (e.g., regression vs classification)?\n",
        "5. **Regularization Techniques**: If you used regularization techniques such as dropout or weight decay, explain why you implemented them and how they influenced the model's performance.\n",
        "6. **Model Evaluation**: Justify your approach to evaluating the model. Why did you choose the specific performance metrics, and how do they reflect the model's success in solving the task?\n",
        "7. **Model Tuning (If Done)**: Describe any tuning you performed (e.g., hyperparameter tuning) and why you felt it was necessary. How did these adjustments improve model performance?\n",
        "8. **Overfitting and Underfitting**: Analyze whether the model encountered any overfitting or underfitting during training. What strategies could you implement to mitigate these issues?"
      ]
    },
    {
      "cell_type": "markdown",
      "source": [
        "1- First I started with a Boxplot to find the outliers I removed them from the ['Number_Of_Students_On_The_Bus'] column and made a drop of the\n",
        "['Busbreakdown_ID'] in ML or AI it won't help me in prediction\n",
        "Then I did this hot coding for columns that contain three or more values ​​to make it easier for the model to train and the rows contain two values i will but them in Label Encoding like True False to be 1 0"
      ],
      "metadata": {
        "id": "Cyc5KSWjNuTj"
      },
      "id": "Cyc5KSWjNuTj"
    },
    {
      "cell_type": "markdown",
      "source": [
        "2-Based on the data I have, I need Ann. I chose it to be Sequential, one after the other. I put two layers with Relu selected to make it non-linear. In addition to the last layer, I chose activation sigmoid becuse my task is to predict whether the bus was delayed or had a breakdown which mean Binary When compiling the model, I chose Adam Optimizer because it combines the best two algorithms. It is the best type for measuring loss function and of course the accuracy for testing the results and whether there is improvement or not."
      ],
      "metadata": {
        "id": "9M9tLEttQxu-"
      },
      "id": "9M9tLEttQxu-"
    },
    {
      "cell_type": "markdown",
      "source": [
        "I'm sorry but I couldn't finish the all )::"
      ],
      "metadata": {
        "id": "xQ3S87z1uwpm"
      },
      "id": "xQ3S87z1uwpm"
    },
    {
      "cell_type": "markdown",
      "id": "5f524a61",
      "metadata": {
        "id": "5f524a61"
      },
      "source": [
        "### Answer Here:"
      ]
    }
  ],
  "metadata": {
    "language_info": {
      "name": "python"
    },
    "colab": {
      "provenance": []
    },
    "kernelspec": {
      "name": "python3",
      "display_name": "Python 3"
    }
  },
  "nbformat": 4,
  "nbformat_minor": 5
}